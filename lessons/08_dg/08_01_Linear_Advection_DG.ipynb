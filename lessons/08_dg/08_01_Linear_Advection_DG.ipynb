{
 "cells": [
  {
   "cell_type": "markdown",
   "metadata": {},
   "source": [
    "# Linear advection equation with Discontinous Galerkin"
   ]
  },
  {
   "cell_type": "markdown",
   "metadata": {},
   "source": [
    "## Notebook setup"
   ]
  },
  {
   "cell_type": "code",
   "execution_count": 1,
   "metadata": {
    "collapsed": false
   },
   "outputs": [],
   "source": [
    "import numpy\n",
    "from matplotlib import pyplot\n",
    "%matplotlib inline"
   ]
  },
  {
   "cell_type": "markdown",
   "metadata": {},
   "source": [
    "## Important!\n",
    "\n",
    "All codes used in this lesson are implemented in standard Python files (\"__`py`__\" extension). That is a project choice because it enables us to reuse code common to all lessons.\n",
    "\n",
    "Loading external Python code into the notebook is simple: it suffices to use the \"magic\" __`%load`__:\n",
    "\n",
    "> `%load my_super_duper_code.py`\n",
    "\n",
    "You are completely free to adapt and modify the code so loaded, but keep in mind that any changes you make into the notebook are __not__ reflected back on the original Python files."
   ]
  },
  {
   "cell_type": "markdown",
   "metadata": {},
   "source": [
    "## Theoretical aspects and DG-FEM formulation"
   ]
  },
  {
   "cell_type": "markdown",
   "metadata": {},
   "source": [
    "### The Model Equation"
   ]
  },
  {
   "cell_type": "markdown",
   "metadata": {},
   "source": [
    "We consider the Linear Advection Equation (LAE) described by the following conservation law,\n",
    "\n",
    "$$\n",
    "\\frac{\\partial u(x,t)}{\\partial t} +  \\frac{\\partial f(u(x,t))}{\\partial x} = 0, \\ x \\in [L,R] = \\Omega\n",
    "$$\n",
    "\n",
    "where $u(x,t)$ is the concentration of some transported species, $x \\in \\mathbb{R}$ and $t \\in \\mathbb{R}_{+}$ are the space and time coordinates, and $\\Omega \\subset \\mathbb{R}$ is the problem domain, respectively. The typical flux function $f: \\mathbb{R} \\rightarrow \\mathbb{R}$ used in this model can be written as\n",
    "\n",
    "$$\n",
    "f(u) = au\n",
    "$$\n",
    "\n",
    "where the constants $a$ stands for the transport speed.\n",
    "\n",
    "This problem is subjected to appropriate initial condition\n",
    "\n",
    "$$\n",
    "u(x,0) = u_{0}(x).\n",
    "$$\n",
    "\n",
    "Boundary conditions are given when the boundary is an inflow boundary, i.e.,\n",
    "\n",
    "$$\n",
    "u(L,t) = g(t) \\ \\ \\text{if} \\ \\ a \\geq 0, \\\\\n",
    "u(R,t) = g(t) \\ \\ \\text{if} \\ \\ a \\leq 0.\n",
    "$$\n"
   ]
  },
  {
   "cell_type": "markdown",
   "metadata": {},
   "source": [
    "### The Weak Local Statement"
   ]
  },
  {
   "cell_type": "markdown",
   "metadata": {},
   "source": [
    "In order to obtain an approximation for the solution of the previous equation, we will rewrite the initial-boundary value problem in an integral form. For this, we assume that our integral form will be valid for each individual element of a given mesh and the global approximate solution will be enforced by some mechanism (which will be called numerical flux) that allows inter element communication through their boundaries.\n",
    "\n",
    "Using this premise, for each element $\\Omega^{k}$ of the mesh, we form the local residual as follows\n",
    "\n",
    "\\begin{equation}\n",
    "\tx \\in \\Omega^{k}: \\mathcal{R}_{h}(x,t) = \\frac{\\partial u^{k}_{h}}{\\partial t} + \\frac{\\partial au^{k}_{h}}{\\partial x},\n",
    "\\end{equation}\n",
    "\n",
    "where $u^{k}_{h}$ and $au^{k}_{h}$ are numerical approximations to the solution and the flux, respectively.\n",
    "\n",
    "As in the Galerkin finite element formulation, we require that the residual is orthogonal to all test functions $\\phi_{h}$ belonging to a finite dimension vector space $V_{h}$, leading to\n",
    "\n",
    "\\begin{equation}\n",
    "\t\\int_{\\Omega^{k}} \\mathcal{R}_{h}(x,t)\\phi^{k}_{i}(x) \\: dx = 0,\n",
    "\\end{equation}\n",
    "\n",
    "for all the elemental test functions $\\phi^{k}_{i}(x)$.\n",
    "\n",
    "Substituting the residual expression into the orthogonal relation yields \n",
    "\\begin{equation}\n",
    "\t\\int_{\\Omega^{k}} \\frac{\\partial u^{k}_{h}}{\\partial t}\\phi^{k}_{i}(x) + \\frac{\\partial au^{k}_{h}}{\\partial x}\\phi^{k}_{i}(x) \\: dx = 0.\n",
    "\\end{equation}\n",
    "\n",
    "Integrating the second term of the latter equation by parts once gives us the weak local statement of the Linear Advection problem\n",
    "\n",
    "\\begin{equation}\n",
    "\t\\int_{\\Omega^{k}} \\left(\\frac{\\partial u^{k}_{h}}{\\partial t}\\phi^{k}_{i}(x) - au^{k}_{h}\\frac{d\\phi^{k}_{i}}{dx}\\right) \\: dx = -\\left[au^{k}_{h}\\phi^{k}_{i}\\right]^{x^{k}_{r}}_{x^{k}_{l}}.\n",
    "\\end{equation}"
   ]
  },
  {
   "cell_type": "markdown",
   "metadata": {},
   "source": [
    "### Discontinuous Galerkin-FEM Discretization"
   ]
  },
  {
   "cell_type": "markdown",
   "metadata": {},
   "source": [
    "We approximate $\\Omega$ by $K$ nonoverlapping elements, $x \\in [x^{k}_{l},x^{k}_{r}] = \\Omega^{k}$ that we call a _finite element mesh_. On each of these elements we will assume that the local solution, $u^{k}_{h}(x,t)$, can be expressed as a polynomial of order $N$\n",
    "\n",
    "\\begin{align}\n",
    "\tx \\in \\Omega^{k}: \\ u^{k}_{h}(x,t) &= \\sum^{N+1}_{j=1}\\hat{u}^{k}_{j}(t)\\psi^{k}_{j}(x).\n",
    "\\end{align}\n",
    "\n",
    "where $\\psi^{k}_{j}(x)$ are the local basis functions which can be chosen as of the modal or nodal type. In this work we consider the Legendre polynomials, $P_{n}(\\xi)$, defined on the reference interval $[-1,1]$, for the modal basis and the Lagrange polynomials, $\\ell^{k}_{i}(x)$, defined through the $N_{p} = N+1$ Gauss-Legendre-Lobatto quadrature points, for the nodal case. These two basis functions representations are connected by the definition of the expansion coefficients, $\\hat{u}_{i}$, as follows\n",
    "\n",
    "$$\n",
    "\t{\\cal V}\\hat{\\mathbb{u}} = \\mathbb{u}\n",
    "$$\n",
    "\n",
    "where ${\\cal V}_{ij} = P_{j-1}(\\xi_{i})$, $\\hat{\\mathbb{u}}_{i} = \\hat{u}_{i}$, $\\mathbb{u}_{i} = u(\\xi_{i})$. The matrix ${\\cal V}$ is recognized as the generalized Vandermond matrix."
   ]
  },
  {
   "cell_type": "markdown",
   "metadata": {},
   "source": [
    "We now return to the weak form of the LAE and substitute the function $u$ by its discrete counterpart and replace the arbitrary test function $\\phi^{k}_{i}$ by the piecewise polynomial functions $\\psi^{k}_{i}(x) \\in V_{h}$. We also introduce the numerical flux $(au_{h})^{*}$ in order to recover the global meaning of the discontinuous Galerkin (DG-FEM) approximate solution of the Linear Advection problem. Now, the semi-discrete form of the DG-FEM formulation can be written as\n",
    "\n",
    "$$\n",
    "\\int_{\\Omega^{k}} \\left(\\frac{\\partial u^{k}_{h}}{\\partial t} \\psi^{k}_{i}(x) - au^{k}_{h} \\frac{d\\psi^{k}_{i}(x)}{dx}\\right) dx = -\\left[(au_{h})^{*}\\psi^{k}_{i}(x)\\right]^{x^{k}_{r}}_{x^{k}_{l}}, \\ 1 \\leq i \\leq N+1.\n",
    "$$"
   ]
  },
  {
   "cell_type": "markdown",
   "metadata": {},
   "source": [
    "Substituting the expression for $u_h^k(x,t)$ into the last equation and using an affine transformation to perform integrations on the reference element $\\hat{\\Omega} = [-1,1]$, we can rewrite the semidiscrete DG-FEM weak formulation in its matrix form,\n",
    "\n",
    "$$\n",
    "\\mathcal{M}^{k}\\frac{d}{dt}\\boldsymbol{\\hat{u}}^{k}_{h} - \\mathcal{S}^{T}a\\boldsymbol{\\hat{u}}^{k}_{h} = -(au_{h})^{*}\\boldsymbol{\\hat{\\psi}}(\\xi_{r})+(au_{h})^{*}\\boldsymbol{\\hat{\\psi}}(\\xi_{l}),\n",
    "$$\n",
    "\n",
    "where, for $1 \\leq i,j \\leq N+1$,\n",
    "\n",
    "$$\n",
    "\\begin{align}\n",
    "\\mathcal{M}^{k} &= \\frac{h^{k}}{2}\\int_{\\hat{\\Omega}} \\hat{\\psi}_{i}\\hat{\\psi}_{j} \\: d\\xi, \\\\\n",
    "\\mathcal{S}^{T} &= \\int_{\\hat{\\Omega}} \\hat{\\psi}_{i}\\frac{d\\hat{\\psi}_{j}}{d\\xi} \\: d\\xi,\n",
    "\\end{align}\n",
    "$$\n",
    "\n",
    "are the local mass and stiffness matrices, respectively. The term $h^{k}/{2}$ is the jacobian associated to the affine transformation and its value is half of the size of the $k$-th element, $\\Omega^{k}$. Furthermore, we have\n",
    "\n",
    "$$\n",
    "\\begin{align}\n",
    "\\boldsymbol{\\hat{u}}^{k}_{h} &= [\\hat{u}^{k}_{1},\\ldots,\\hat{u}^{k}_{N+1}]^{T}, \\\\\n",
    "\\boldsymbol{\\hat{\\psi}} &= [\\hat{\\psi}_{1}(\\xi),\\ldots,\\hat{\\psi}_{N+1}(\\xi)]^{T}.\n",
    "\\end{align}\n",
    "$$\n",
    "\n",
    "as the vectors of local coefficients and local test functions, respectively."
   ]
  },
  {
   "cell_type": "markdown",
   "metadata": {},
   "source": [
    "Now, we are ready to define the numerical flux, $(au_{h})^{*}$, that appears in the equation above. We consider the following flux for the DG-FEM discretization\n",
    "\n",
    "$$\n",
    "f^{*} = (au_{h})^{*} = \\{\\{au_{h}\\}\\}+\\left|a\\right|\\frac{1-\\alpha}{2}[[u_{h}]], \\ 0 \\leq \\alpha \\leq 1\n",
    "$$\n",
    "\n",
    "where $\\{\\{.\\}\\}$ and $[[.]]$ are the average and jump operators usually defined as follows\n",
    "\n",
    "$$\n",
    "\\{\\{u\\}\\} = \\frac{u^{-}+u^{+}}{2}\n",
    "$$\n",
    "\n",
    "where $u$ can be both a scalar or a vector quantity and\n",
    "\n",
    "$$\n",
    "\\begin{align}\n",
    "[[u]] &= \\hat{\\mathbf{n}}^{-}u^{-} + \\hat{\\mathbf{n}}^{+}u^{+}, \\\\\n",
    "[[\\mathbf{u}]] &= \\hat{\\mathbf{n}}^{-}\\cdot\\mathbf{u}^{-} + \\hat{\\mathbf{n}}^{+}\\cdot\\mathbf{u}^{+}.\n",
    "\\end{align}\n",
    "$$\n",
    "\n",
    "When the parameter $\\alpha = 1$ the numerical flux is known as a central flux. For $\\alpha = 0$, we recover a flux which always takes information from where it is coming, i.e., it is an upwind flux.\n",
    "\n",
    "The quantity $\\hat{\\mathbf{n}}$ above is defined as the normal vector along the left or right boundaries of the $k$-th element. We observe that the jump operator is defined differently depending on whether $u$ is a scalar or a vector, $\\mathbf{u}$. The superscripts \"$-$\" and \"$+$\" stand for the interior and exterior information of the element, respectively. "
   ]
  },
  {
   "cell_type": "markdown",
   "metadata": {},
   "source": [
    "To write the final semidiscrete form of the proposed DG-FEM scheme, we substitute the definition of the numerical flux into the right hand side of the equation in matricial form, as follows\n",
    "\n",
    "$$\n",
    "-(au_{h})^{*}\\boldsymbol{\\hat{\\psi}}(\\xi_{r})+(au_{h})^{*}\\boldsymbol{\\hat{\\psi}}(\\xi_{l}) =\n",
    "$$\n",
    "\n",
    "$$\n",
    "\\begin{align*}\n",
    "&= \\left[-\\boldsymbol{\\hat{\\psi}}(1)\\left(\\{\\{au_{h}\\}\\}+\\left|a\\right|\\frac{1-\\alpha}{2}[[u_{h}]]\\right) + \\boldsymbol{\\hat{\\psi}}(-1)\\left(\\{\\{au_{h}\\}\\}+\\left|a\\right|\\frac{1-\\alpha}{2}[[u_{h}]]\\right)\\right] \\\\\n",
    "&= \\left[-\\boldsymbol{\\hat{\\psi}}(1)\\left(\\frac{a}{2}(u^{-}_{h}+u^{+}_{h})+\\left|a\\right|\\frac{1-\\alpha}{2}(\\hat{\\mathbf{n}}^{-}_{r}u^{-}_{h} + \\hat{\\mathbf{n}}^{+}_{r}u^{+}_{h})\\right)\\right. \\\\\n",
    "&+\\left.\\boldsymbol{\\hat{\\psi}}(-1)\\left(\\frac{a}{2}(u^{-}_{h}+u^{+}_{h})+\\left|a\\right|\\frac{1-\\alpha}{2}(\\hat{\\mathbf{n}}^{-}_{l}u^{-}_{h} + \\hat{\\mathbf{n}}^{+}_{l}u^{+}_{h})\\right)\\right]\n",
    "\\end{align*}\n",
    "$$\n",
    "\n",
    "where the subscripts $r$ or $l$ for the normal vector $\\hat{\\mathbf{n}}$ indicates that we are taking the normal vector at the right or left side of the $k$ element, respectively. We also notice that the local coordinates at the right and left boundaries of the reference element assume the values $\\xi_{r} = 1$ and $\\xi_{l} = -1$."
   ]
  },
  {
   "cell_type": "markdown",
   "metadata": {},
   "source": [
    "Substituting the expressions for the approximations $u^{k}_{h}$ into the equation above and remembering that $\\hat{\\mathbf{n}}^{-} = -\\hat{\\mathbf{n}}^{+}$ yields\n",
    "\n",
    "$$\n",
    "-(au_{h})^{*}\\boldsymbol{\\hat{\\psi}}(\\xi_{r})+(au_{h})^{*}\\boldsymbol{\\hat{\\psi}}(\\xi_{l}) =\n",
    "$$\n",
    "\n",
    "$$\n",
    "\\begin{align}\n",
    "& \\: \\left[-\\frac{a}{2}\\boldsymbol{\\hat{\\psi}}(1)\\left((\\boldsymbol{\\hat{u}}^{k}_{h})^{T}\\boldsymbol{\\hat{\\psi}}(1)+(\\boldsymbol{\\hat{u}}^{k+1}_{h})^{T}\\boldsymbol{\\hat{\\psi}}(-1)\\right)\\right. \\\\\n",
    "&-\\left|a\\right|\\frac{1-\\alpha}{2}\\hat{\\mathbf{n}}^{-}_{r}\\boldsymbol{\\hat{\\psi}}(1)\\left((\\boldsymbol{\\hat{u}}^{k}_{h})^{T}\\boldsymbol{\\hat{\\psi}}(1)-(\\boldsymbol{\\hat{u}}^{k+1}_{h})^{T}\\boldsymbol{\\hat{\\psi}}(-1)\\right) \\\\\n",
    "&+\\frac{a}{2}\\boldsymbol{\\hat{\\psi}}(-1)\\left((\\boldsymbol{\\hat{u}}^{k}_{h})^{T}\\boldsymbol{\\hat{\\psi}}(-1)+(\\boldsymbol{\\hat{u}}^{k-1}_{h})^{T}\\boldsymbol{\\hat{\\psi}}(1)\\right) \\\\\n",
    "&+\\left.\\left|a\\right|\\frac{1-\\alpha}{2}\\hat{\\mathbf{n}}^{-}_{l}\\boldsymbol{\\hat{\\psi}}(-1)\\left((\\boldsymbol{\\hat{u}}^{k}_{h})^{T}\\boldsymbol{\\hat{\\psi}}(-1)-(\\boldsymbol{\\hat{u}}^{k-1}_{h})^{T}\\boldsymbol{\\hat{\\psi}}(1)\\right)\\right] \\\\\n",
    "\\\\\n",
    "=& \\: \\left[-\\frac{a}{2}\\left([\\boldsymbol{\\hat{\\psi}}(1)\\otimes\\boldsymbol{\\hat{\\psi}}(1)]\\: \\boldsymbol{\\hat{u}}^{k}_{h}+[\\boldsymbol{\\hat{\\psi}}(1)\\otimes\\boldsymbol{\\hat{\\psi}}(-1)]\\: \\boldsymbol{\\hat{u}}^{k+1}_{h}\\right)\\right.\\\\\n",
    "&-\\left|a\\right|\\frac{1-\\alpha}{2}\\hat{\\mathbf{n}}^{-}_{r}\\left([\\boldsymbol{\\hat{\\psi}}(1)\\otimes\\boldsymbol{\\hat{\\psi}}(1)]\\:\\boldsymbol{\\hat{u}}^{k}_{h}-[\\boldsymbol{\\hat{\\psi}}(1)\\otimes\\boldsymbol{\\hat{\\psi}}(-1)]\\:\\boldsymbol{\\hat{u}}^{k+1}_{h}\\right) \\\\\n",
    "&+\\frac{a}{2}\\left([\\boldsymbol{\\hat{\\psi}}(-1)\\otimes\\boldsymbol{\\hat{\\psi}}(-1)]\\:\\boldsymbol{\\hat{u}}^{k}_{h}+[\\boldsymbol{\\hat{\\psi}}(-1)\\otimes\\boldsymbol{\\hat{\\psi}}(1)]\\:\\boldsymbol{\\hat{u}}^{k-1}_{h}\\right) \\\\\n",
    "&+\\left.\\left|a\\right|\\frac{1-\\alpha}{2}\\hat{\\mathbf{n}}^{-}_{l}\\left([\\boldsymbol{\\hat{\\psi}}(-1)\\otimes\\boldsymbol{\\hat{\\psi}}(-1)]\\:\\boldsymbol{\\hat{u}}^{k}_{h}-[\\boldsymbol{\\hat{\\psi}}(-1)\\otimes\\boldsymbol{\\hat{\\psi}}(1)]\\:\\boldsymbol{\\hat{u}}^{k-1}_{h}\\right)\\right]\n",
    "\\end{align}\n",
    "$$"
   ]
  },
  {
   "cell_type": "markdown",
   "metadata": {},
   "source": [
    "Tensor multiplication of vectors of elemental test functions gives rise to matrices which we will call lift matrices. They are defined as follows\n",
    "\n",
    "$$\n",
    "\\begin{align*}\n",
    "\\mathcal{F}^{k}_{r} &= [\\hat{\\boldsymbol{\\psi}}(1)\\otimes\\hat{\\boldsymbol{\\psi}}(1)], \\\\\n",
    "\\mathcal{F}^{k+1}_{l} &= [\\hat{\\boldsymbol{\\psi}}(1)\\otimes\\hat{\\boldsymbol{\\psi}}(-1)], \\\\\n",
    "\\mathcal{F}^{k}_{l} &= [\\hat{\\boldsymbol{\\psi}}(-1)\\otimes\\hat{\\boldsymbol{\\psi}}(-1)], \\\\\n",
    "\\mathcal{F}^{k-1}_{r} &= [\\hat{\\boldsymbol{\\psi}}(-1)\\otimes\\hat{\\boldsymbol{\\psi}}(1)].\n",
    "\\end{align*}\n",
    "$$"
   ]
  },
  {
   "cell_type": "markdown",
   "metadata": {},
   "source": [
    "Now we use the lift matrices definitions and rearrange terms to write the final matrix form of the right hand side \n",
    "\n",
    "$$\n",
    "-(au_{h})^{*}\\boldsymbol{\\hat{\\psi}}(\\xi_{r})+(au_{h})^{*}\\boldsymbol{\\hat{\\psi}}(\\xi_{l}) = \\:\n",
    "$$\n",
    "\n",
    "$$\n",
    "\\begin{align}\n",
    "\\left[-\\frac{1}{2}\\mathcal{F}^{k+1}_{l}\\left(a\\boldsymbol{\\hat{u}}^{k+1}_{h}-\\left|a\\right|\\left(1-\\alpha\\right)\\hat{\\mathbf{n}}^{-}_{r}\\cdot \\boldsymbol{\\hat{u}}^{k+1}_{h}\\right) \\right. &- \\frac{1}{2}\\mathcal{F}^{k}_{r}\\left(a\\boldsymbol{\\hat{u}}^{k}_{h}+\\left|a\\right|\\left(1-\\alpha\\right)\\hat{\\mathbf{n}}^{-}_{r}\\cdot \\boldsymbol{\\hat{u}}^{k}_{h}\\right) \\\\\n",
    "+\\frac{1}{2}\\mathcal{F}^{k-1}_{r}\\left(a\\boldsymbol{\\hat{u}}^{k-1}_{h}-\\left|a\\right|\\left(1-\\alpha\\right)\\hat{\\mathbf{n}}^{-}_{l}\\cdot \\boldsymbol{\\hat{u}}^{k-1}_{h}\\right) &+ \\left.\\frac{1}{2}\\mathcal{F}^{k}_{l}\\left(\\boldsymbol{a\\hat{u}}^{k}_{h}+\\left|a\\right|\\left(1-\\alpha\\right)\\hat{\\mathbf{n}}^{-}_{l}\\cdot \\boldsymbol{\\hat{u}}^{k}_{h}\\right)\\right].\n",
    "\\end{align}\n",
    "$$"
   ]
  },
  {
   "cell_type": "markdown",
   "metadata": {},
   "source": [
    "Noting that the exterior normal vector, $\\hat{\\mathbf{n}}^{-}$, assumes only two values, $\\hat{\\mathbf{n}}^{-}_{r} = 1$ and $\\hat{\\mathbf{n}}^{-}_{l} = -1$, at the right and the left boundaries, respectively, of any $k$ element , the semidiscrete form of the proposed DG scheme for the (LAE)can finally be written as\n",
    "\n",
    "$$\n",
    "\\begin{align}\n",
    "\\frac{h^{k}}{2}\\mathcal{M}\\frac{d}{dt}\\boldsymbol{\\hat{u}}^{k}_{h} - \\mathcal{S}^{T}a\\boldsymbol{\\hat{u}}^{k}_{h} = \\: \n",
    "\\left[-\\frac{1}{2}\\mathcal{F}^{k+1}_{l}\\left(a\\boldsymbol{\\hat{u}}^{k+1}_{h}-\\left|a\\right|\\left(1-\\alpha\\right)\\boldsymbol{\\hat{u}}^{k+1}_{h}\\right) \\right. &- \\frac{1}{2}\\mathcal{F}^{k}_{r}\\left(a\\boldsymbol{\\hat{u}}^{k}_{h}+\\left|a\\right|\\left(1-\\alpha\\right)\\boldsymbol{\\hat{u}}^{k}_{h}\\right) \\\\\n",
    "+\\frac{1}{2}\\mathcal{F}^{k-1}_{r}\\left(a\\boldsymbol{\\hat{u}}^{k-1}_{h}+\\left|a\\right|\\left(1-\\alpha\\right)\\boldsymbol{\\hat{u}}^{k-1}_{h}\\right) &+ \\left.\\frac{1}{2}\\mathcal{F}^{k}_{l}\\left(a\\boldsymbol{\\hat{u}}^{k}_{h}-\\left|a\\right|\\left(1-\\alpha\\right)\\boldsymbol{\\hat{u}}^{k}_{h}\\right)\\right].\n",
    "\\end{align}\n",
    "$$"
   ]
  },
  {
   "cell_type": "markdown",
   "metadata": {},
   "source": [
    "### Time Marching"
   ]
  },
  {
   "cell_type": "markdown",
   "metadata": {},
   "source": [
    "The DG-FEM spatial discretization of the traffic flow equation produces a system of first order ODEs in terms of the traffic density field of the problem.  \n",
    "\n",
    "Before discretizing the semidiscrete problem, we define the right hand side operator $\\mathcal{L}_{h}$ for the variable $\\boldsymbol{u}_{h}$ as\n",
    "\n",
    "$$\n",
    "\\begin{align}\n",
    "\\mathcal{L}_{h}(\\boldsymbol{u}_{h},t) = \\frac{2}{h^{k}} \\mathcal{M}^{-1} \\left\\{\\mathcal{S}^{T}a\\boldsymbol{\\hat{u}}^{k}_{h} + \\left[-\\frac{1}{2}\\right.\\right.&\\mathcal{F}^{k+1}_{l}\\left(a\\boldsymbol{\\hat{u}}^{k+1}_{h}-\\left|a\\right|\\left(1-\\alpha\\right)\\boldsymbol{\\hat{u}}^{k+1}_{h}\\right) - \\frac{1}{2}\\mathcal{F}^{k}_{r}\\left(a\\boldsymbol{\\hat{u}}^{k}_{h}+\\left|a\\right|\\left(1-\\alpha\\right)\\boldsymbol{\\hat{u}}^{k}_{h}\\right) \\\\\n",
    "+\\frac{1}{2} \\: &\\mathcal{F}^{k-1}_{r}\\left(a\\boldsymbol{\\hat{u}}^{k-1}_{h}+\\left|a\\right|\\left(1-\\alpha\\right)\\boldsymbol{\\hat{u}}^{k-1}_{h}\\right) + \\left.\\left.\\frac{1}{2}\\mathcal{F}^{k}_{l}\\left(a\\boldsymbol{\\hat{u}}^{k}_{h}-\\left|a\\right|\\left(1-\\alpha\\right)\\boldsymbol{\\hat{u}}^{k}_{h}\\right)\\right]\\right\\}.\n",
    "\\end{align}\n",
    "$$"
   ]
  },
  {
   "cell_type": "markdown",
   "metadata": {
    "collapsed": false
   },
   "source": [
    "To march this system of equations in time, we can use the classical and reliable forth order four stage explicit Runge-Kutta method (ERK)\n",
    "\n",
    "$$\n",
    "\\begin{align}\n",
    "&\\boldsymbol{k}^{(1)} = \\mathcal{L}_{h}(\\boldsymbol{u}^{n}_{h},t^{n}), \\\\\n",
    "&\\boldsymbol{k}^{(2)} = \\mathcal{L}_{h}\\left(\\boldsymbol{u}^{n}_{h}+\\frac{1}{2}\\mathit{\\Delta} t\\boldsymbol{k}^{(1)},t^{n}+\\frac{1}{2}\\mathit{\\Delta} t\\right), \\\\\n",
    "&\\boldsymbol{k}^{(3)} = \\mathcal{L}_{h}\\left(\\boldsymbol{u}^{n}_{h}+\\frac{1}{2}\\mathit{\\Delta} t\\boldsymbol{k}^{(2)},t^{n}+\\frac{1}{2}\\mathit{\\Delta} t\\right),\\\\\n",
    "&\\boldsymbol{k}^{(4)} = \\mathcal{L}_{h}\\left(\\boldsymbol{u}^{n}_{h}+\\mathit{\\Delta} t\\boldsymbol{k}^{(3)},t^{n}+\\mathit{\\Delta} t\\right), \\\\\n",
    "&\\boldsymbol{u}^{n+1}_{h} = \\boldsymbol{u}^{n}_{h}+\\frac{1}{6}\\mathit{\\Delta} t\\left(\\boldsymbol{k}^{(1)}+2\\boldsymbol{k}^{(2)}+2\\boldsymbol{k}^{(3)}+\\boldsymbol{k}^{(4)}\\right),\n",
    "\\end{align}\n",
    "$$\n",
    "\n",
    "to advance from $\\boldsymbol{u}^{n}_{h}$ to $\\boldsymbol{u}^{n+1}_{h}$ which are separated by the timestep, $\\mathit{\\Delta} t$. It is important to note that the ERK method is conditionally stable and requires the timestep size $\\mathit{\\Delta} t$ be estimated using the $CFL$ (Courant-Friedrichs-Lewy) condition. We define the CFL as\n",
    "\n",
    "$$\n",
    "CFL = \\max_{k}\\frac{c^{k}\\mathit{\\Delta} t}{\\mathit{\\Delta} x^{k}},\n",
    "$$\n",
    "\n",
    "where $c^{k}$ is the local propagation wave speed on element $k$ and $\\mathit{\\Delta} x^{k} = h^{k}$ is the local spatial grid resolution. The specific value of the $CFL$ (constant) number depends on the method used for the space and time discretizations but, in general, its order of magnitude is about 1. For the present case, we considered $CFL = 0.75$. As a last remark, we observe that, for high order methods such as the DG scheme described in this text, we have to consider the minimum grid space as the minimum distance between the mapped quadrature points (GL or GLL) on the mesh elements."
   ]
  },
  {
   "cell_type": "markdown",
   "metadata": {},
   "source": [
    "## Python implementation"
   ]
  },
  {
   "cell_type": "markdown",
   "metadata": {},
   "source": [
    "### Simulation parameters\n",
    "\n",
    "The first step to use the Python DG framework is the definition of the simulation parameters. There is a Python class specifically designed for this, called _SimulationData_, implemented on `simulation_data.py`. Also on the same file are two service classes, _QuadratureNodes_ and _BasisType_ used to represent minemonically the types of quadrature points and basis available in the framework.\n",
    "\n",
    "#### QuadratureNodes\n",
    "There are two variables defined in _QuadratureNodes_, both related to Gaussian integration:\n",
    "\n",
    "- `QuadratureNodes.GL`, corresponding to the Legendre integration points, and\n",
    "- `QuadratureNodes.GLL`, associated with the Legendre-Lobatto points.\n",
    "\n",
    "#### BasisType\n",
    "Here we have three variables:\n",
    "\n",
    "- `BasisType.NODAL`, used to indicate we are using a nodal basis;\n",
    "- `BasisType.MODAL`, the same as above, for modal basis, and\n",
    "- `BasisType.MODAL_ORTHOGONAL`, for a special variation of the above."
   ]
  },
  {
   "cell_type": "markdown",
   "metadata": {},
   "source": [
    "> Remember to use `%load simulation_data.py` to bring the file to the notebook! Remember also to __run__ the cell!"
   ]
  },
  {
   "cell_type": "code",
   "execution_count": 2,
   "metadata": {
    "collapsed": true
   },
   "outputs": [],
   "source": [
    "# %load simulation_data.py\n",
    "#\n",
    "# Common simulation data\n",
    "# ======================\n",
    "# It presents a struct to store simulation data common to all problemas, like\n",
    "# number of elements, polynomial order and so on.\n",
    "#\n",
    "# by Alberto Costa Nogueira Jr. (Matlab and Python versions)\n",
    "#    Renato Cantao (Python version)\n",
    "#\n",
    "from math import ceil, floor\n",
    "\n",
    "#\n",
    "# Used to specify the chosen basis.\n",
    "#\n",
    "class BasisType(object):\n",
    "    \"\"\"The available basis types.\"\"\"\n",
    "    NODAL = 0\n",
    "    MODAL = 1\n",
    "    MODAL_ORTHOGONAL = 2\n",
    "\n",
    "#\n",
    "# Used to specify the chosen type of points distribution for Gaussian quadrature\n",
    "#\n",
    "class QuadratureNodes(object):\n",
    "    \"\"\"The available quadrature nodes distribution.\"\"\"\n",
    "    GL  = 0     # Gauss-Legendre\n",
    "    GLL = 1     # Gauss-Legendre-Lobatto\n",
    "\n",
    "class SimulationData:\n",
    "    \"\"\"Creates a simulation data structure.\"\"\"\n",
    "    def __init__(self,\n",
    "                 n_elements      = 1,\n",
    "                 poly_order      = 0,\n",
    "                 spatial_domain  = (0.0, 1.0),\n",
    "                 temporal_domain = (0.0, 1.0),\n",
    "                 basis_type      = BasisType.NODAL,\n",
    "                 node_dist       = QuadratureNodes.GL):\n",
    "        \"\"\"\n",
    "        Parameters\n",
    "        ----------\n",
    "        n_elements\n",
    "            Number of elements\n",
    "        poly_order\n",
    "            Polynomial order of approximation\n",
    "        spatial_domain\n",
    "            Spatial domain\n",
    "        temporal_domain\n",
    "            Temporal domain\n",
    "        basis_type\n",
    "            The basis used in the approximation\n",
    "        node_dist\n",
    "            The quadrature points distribution\n",
    "        \"\"\"\n",
    "        self.n_elements      = n_elements\n",
    "        self.poly_order      = poly_order\n",
    "        self.spatial_domain  = spatial_domain\n",
    "        self.temporal_domain = temporal_domain\n",
    "        self.basis_type      = basis_type\n",
    "        self.node_dist       = node_dist\n",
    "\n",
    "    def mass_order(self):\n",
    "        \"\"\"Number of integration points needed for mass matrix assembly.\"\"\"\n",
    "        return self.poly_order*2\n",
    "\n",
    "    def nonlinear_order(self):\n",
    "        \"\"\"Number of integration points needed for nonlinear terms.\"\"\"\n",
    "        return self.poly_order*3\n",
    "\n",
    "    def spatial_domain_length(self):\n",
    "        \"\"\"Length of the spatial domain.\"\"\"\n",
    "        return self.spatial_domain[1] - self.spatial_domain[0]\n",
    "\n",
    "    def n_local_dof(self):\n",
    "        \"\"\"Local degrees of freedom.\n",
    "        \n",
    "        In 1D we have the polynomial order plus 1, to account for the constant\n",
    "        term.\"\"\"\n",
    "        return self.poly_order+1\n",
    "\n",
    "    def n_global_dof(self):\n",
    "        \"\"\"Global degrees of freedom.\"\"\"\n",
    "        return self.n_local_dof()*self.n_elements\n",
    "\n",
    "    def nip(self):\n",
    "        if self.node_dist == QuadratureNodes.GL:\n",
    "            return int(ceil(0.5*(self.mass_order()+2)))\n",
    "        elif self.node_dist == QuadratureNodes.GLL:\n",
    "            # floor(nip) will keep the nodal spectral approach Np = N+1\n",
    "            return int(floor((self.mass_order()+3)/2))\n",
    "        else:\n",
    "            raise AssertionError( \"Wrong quadrature node distribution!\\n\" )\n",
    "\n",
    "    def t_min(self):\n",
    "        return self.temporal_domain[0]\n",
    "\n",
    "    def t_max(self):\n",
    "        return self.temporal_domain[1]\n",
    "\n",
    "    # Boilerplate code\n",
    "    def __str__(self):\n",
    "        return (\"SimulationData:\\n\"\n",
    "                \"  Number of elements: %s\\n\"\n",
    "                \"  Polynomial order  : %s\\n\"\n",
    "                \"  Spatial domain    : %s\\n\"\n",
    "                \"  Temporal domain   : %s\") % (self.n_elements,\n",
    "                                               self.poly_order,\n",
    "                                               self.spatial_domain,\n",
    "                                               self.temporal_domain)\n",
    "\n",
    "#-- simulation_data.py ---------------------------------------------------------\n"
   ]
  },
  {
   "cell_type": "code",
   "execution_count": 3,
   "metadata": {
    "collapsed": true
   },
   "outputs": [],
   "source": [
    "# - Elements: 10\n",
    "# - Polynomial order: 8\n",
    "# - Spatial domain: [0, 2]\n",
    "# - Temporal domain: [0, 10]\n",
    "# - Gaussian integration with Legendre-Lobatto points\n",
    "# - Modal basis (orthonormal)\n",
    "sim_data = SimulationData(n_elements=10, poly_order=8, spatial_domain=[0, 2],\n",
    "                          temporal_domain=[0, 10], node_dist=QuadratureNodes.GLL,\n",
    "                          basis_type=BasisType.MODAL)"
   ]
  },
  {
   "cell_type": "markdown",
   "metadata": {},
   "source": [
    "### The finite element mesh\n",
    "\n",
    "Given that we are on a 1D setting, a very simple mesh generator is easy to implement. Of course, on 2D or 3D we would resort to a third-party application. Note that the mesh is created based on the simulation data previously defined. The mesh is also responsible for evaluating the Jacobian.\n",
    "\n",
    "The mesh class is _Mesh1D_, defined in `mesh_gen_1d.py`, consists -- at this point -- of two data members:\n",
    "\n",
    "- `coord`, $x$ coordinate of every node on the mesh, and\n",
    "- `conn`, connectivity matrix, associating elements and nodes"
   ]
  },
  {
   "cell_type": "code",
   "execution_count": 4,
   "metadata": {
    "collapsed": false
   },
   "outputs": [],
   "source": [
    "# %load mesh_gen_1d.py\n",
    "# \n",
    "# 1D mesh generation\n",
    "# ==================\n",
    "# Generate simple equidistant grid with a given number of elements elements\n",
    "#\n",
    "# by Alberto Costa Nogueira Jr. (Matlab and Python versions)\n",
    "#    Renato Cantao (Python version)\n",
    "#\n",
    "from simulation_data import SimulationData\n",
    "\n",
    "class Mesh1D:\n",
    "    \"\"\"Simple one-dimensional mesh.\n",
    "    \n",
    "    Arguments:\n",
    "        sim_data - SimulationData object\n",
    "    \"\"\"\n",
    "    def __init__(self, sim_data):\n",
    "        # Generate node coordinates\n",
    "        # - Note that we have n_elements+1 points on the domain.\n",
    "        # - The name 'coord' is classic in FEM codes.\n",
    "        self.coord = numpy.linspace( sim_data.spatial_domain[0],\n",
    "                                  sim_data.spatial_domain[1],\n",
    "                                  sim_data.n_elements+1 )\n",
    "\n",
    "        # Element to node connectivity\n",
    "        # - The name 'conn' is classic in FEM codes.\n",
    "        self.conn = numpy.array([numpy.arange(0, sim_data.n_elements, 1),\n",
    "                              numpy.arange(1, sim_data.n_elements+1, 1)]).T\n",
    "\n",
    "    def jacobian(self, sim_data, quad_data):\n",
    "        nip = sim_data.nip()\n",
    "\n",
    "        # The Jacobian\n",
    "        self.J = 0.5*(self.coord[1:]-self.coord[0:-1])\n",
    "\n",
    "        # Elements' mid-points\n",
    "        B = 0.5*(self.coord[1:]+self.coord[0:-1])\n",
    "        # We repeat and reshape the array. Why?\n",
    "        B = numpy.repeat(B, nip).reshape(sim_data.n_elements, nip).T\n",
    "\n",
    "        # The transformed points. The construct 'numpy.newaxis' is needed here\n",
    "        # because we want a de facto matricial product (rank-1 update).\n",
    "        #\n",
    "        # x = xi^T * J\n",
    "        self.x = quad_data.xi[numpy.newaxis].T.dot(self.J[numpy.newaxis]) + B\n",
    "\n",
    "#-- mesh_gen_1d.py -------------------------------------------------------------\n"
   ]
  },
  {
   "cell_type": "code",
   "execution_count": 5,
   "metadata": {
    "collapsed": false
   },
   "outputs": [],
   "source": [
    "# Generate simple mesh\n",
    "mesh = Mesh1D(sim_data)"
   ]
  },
  {
   "cell_type": "code",
   "execution_count": 6,
   "metadata": {
    "collapsed": false
   },
   "outputs": [
    {
     "data": {
      "image/png": "[encoded data removed]",
      "text/plain": [
       "<matplotlib.figure.Figure at 0x2aefcf55cc0>"
      ]
     },
     "metadata": {},
     "output_type": "display_data"
    }
   ],
   "source": [
    "# Lets plot the mesh\n",
    "pyplot.figure(1)\n",
    "pyplot.clf()\n",
    "pyplot.xlim(sim_data.spatial_domain[0]-0.1, sim_data.spatial_domain[1]+0.1)\n",
    "pyplot.plot(mesh.coord, numpy.zeros(mesh.coord.shape), \"ro\")\n",
    "pyplot.title(\"FEM mesh\")\n",
    "pyplot.show()"
   ]
  },
  {
   "cell_type": "markdown",
   "metadata": {},
   "source": [
    "### Gaussian quadrature points and weights\n",
    "\n",
    "Having defined the mesh, now we proceed with the creation of the Gaussian quadrature points and integration weights. For this purpose we can resort to the _JacobiGaussQuad_ class, defined in `jacobi_gauss_quad.py`. Objects of this class have two data members:\n",
    "\n",
    "- `xi`, the integration points, and\n",
    "- `w`, the integration weights"
   ]
  },
  {
   "cell_type": "code",
   "execution_count": 7,
   "metadata": {
    "collapsed": false
   },
   "outputs": [],
   "source": [
    "# %load jacobi_gauss_quad.py\n",
    "#\n",
    "# Points and weights for Gaussian quadrature\n",
    "#\n",
    "# by Alberto Costa Nogueira Jr. (Matlab and Python versions)\n",
    "#    Renato Cantao (Python version)\n",
    "#\n",
    "import numpy\n",
    "from math import gamma\n",
    "from jacobi_p import jacobi_p\n",
    "from djacobi_p import djacobi_p\n",
    "from jacobi_roots import jacobi_roots\n",
    "from simulation_data import QuadratureNodes\n",
    "\n",
    "class JacobiGaussQuad:\n",
    "    \"\"\"Points and weights for Gaussian quadrature based on Jacobi polynomials\"\"\"\n",
    "    def __init__(self, sim_data):\n",
    "        # Sets parameters to obtain quadrature points from Legendre polynomials\n",
    "        # Legendre == Jacobi(0,0)\n",
    "        alpha = 0.0\n",
    "        beta  = 0.0\n",
    "        nip = sim_data.nip()\n",
    "\n",
    "        # Case 1: Gauss-Legendre quadrature\n",
    "        if sim_data.node_dist == QuadratureNodes.GL:\n",
    "            self.xi, self.w = self._gl(nip, alpha, beta)\n",
    "        # Case 2: Gauss-Legendre-Lobato quadrature\n",
    "        elif sim_data.node_dist == QuadratureNodes.GLL:\n",
    "            self.xi, self.w = self._gll(nip, alpha, beta)\n",
    "        else:\n",
    "            raise AssertionError(\"Unknown quadrature type!\")\n",
    "\n",
    "    # Case 1: Gauss-Legendre quadrature\n",
    "    def _gl(self, nip, alpha, beta):\n",
    "        xi = jacobi_roots(nip, alpha, beta)\n",
    "\n",
    "        C1 = (2.0**(alpha+beta+1.0))*gamma(alpha+nip+1.0)*gamma(beta+nip+1.0)\n",
    "        C2 = gamma(nip+1.0)*gamma(alpha+beta+nip+1.0)*(1.0-xi**2 )\n",
    "\n",
    "        DPm = djacobi_p(xi, nip, alpha, beta)\n",
    "\n",
    "        w = C1*DPm**(-2)/C2\n",
    "\n",
    "        return xi, w\n",
    "\n",
    "    # Case 2: Gauss-Legendre-Lobato quadrature\n",
    "    def _gll(self, nip, alpha, beta):\n",
    "        r = jacobi_roots(nip-2, alpha+1.0, beta+1.0)\n",
    "        xi = numpy.empty(r.shape[0]+2)\n",
    "        xi[0] = -1.0\n",
    "        xi[1:-1] = r\n",
    "        xi[-1] = 1.0\n",
    "\n",
    "        C1 = (2.0**(alpha+beta+1.0))*gamma(alpha+nip)*gamma(beta+nip)\n",
    "        C2 = (nip-1)*gamma(nip)*gamma(alpha+beta+nip+1.0)\n",
    "\n",
    "        Pm = jacobi_p(xi, nip-1, alpha, beta)\n",
    "\n",
    "        w = C1*Pm**(-2)/C2\n",
    "\n",
    "        w[ 0] = w[ 0]*(beta+1.0)\n",
    "        w[-1] = w[-1]*(alpha+1.0)\n",
    "\n",
    "        return xi, w\n",
    "\n",
    "    def n(self):\n",
    "        \"\"\"Number of integration points / weights.\"\"\"\n",
    "        return self.xi.shape[0]\n",
    "\n",
    "#-- jacobi_gauss_quad.py -------------------------------------------------------\n"
   ]
  },
  {
   "cell_type": "code",
   "execution_count": 8,
   "metadata": {
    "collapsed": false
   },
   "outputs": [],
   "source": [
    "# Creating the quadrature points and weights\n",
    "quad_data = JacobiGaussQuad(sim_data)"
   ]
  },
  {
   "cell_type": "code",
   "execution_count": 9,
   "metadata": {
    "collapsed": false
   },
   "outputs": [
    {
     "data": {
      "image/png": "[encoded data removed]",
      "text/plain": [
       "<matplotlib.figure.Figure at 0x2aefcf94390>"
      ]
     },
     "metadata": {},
     "output_type": "display_data"
    }
   ],
   "source": [
    "# Lets check the distribution of points and respective weights\n",
    "pyplot.figure(2)\n",
    "pyplot.clf()\n",
    "pyplot.xlim(-1.1, 1.1)\n",
    "pyplot.ylim(-0.1, 0.5)\n",
    "pyplot.plot(quad_data.xi, quad_data.w, \"bo\")\n",
    "pyplot.plot(quad_data.xi, numpy.zeros(quad_data.xi.shape), \"ro\")\n",
    "pyplot.show()"
   ]
  },
  {
   "cell_type": "markdown",
   "metadata": {},
   "source": [
    "### Basis functions\n",
    "\n",
    "The _BasisFunctions_ class implements the three possible choices of basis functions (nodal, modal e modal-orthogonal) in a convenient matricial form accessible through the data member `psi`. Basis functions derivatives are also evaluated (data member `Dpsi`). Beyond the _BasisFunctions_ class itself, the file `basis_functions.py` brings the individual implementations of Lagrange, Legendre and Bubble functions."
   ]
  },
  {
   "cell_type": "code",
   "execution_count": 10,
   "metadata": {
    "collapsed": true
   },
   "outputs": [],
   "source": [
    "# %load basis_functions.py\n",
    "#\n",
    "# Basis functions and respective derivatives\n",
    "#\n",
    "# by Alberto Costa Nogueira Jr. (Matlab and Python versions)\n",
    "#    Renato Cantao (Python version)\n",
    "#\n",
    "import numpy\n",
    "from sys import float_info\n",
    "from math import fabs, sqrt\n",
    "from jacobi_p import jacobi_p\n",
    "from djacobi_p import djacobi_p, d_pq, d2_pq\n",
    "from jacobi_roots import jacobi_roots\n",
    "from simulation_data import QuadratureNodes, BasisType\n",
    "\n",
    "def gll_nodes(n_local_dof):\n",
    "    \"\"\"Gauss-Legendre-Lobatto auxiliar points.\n",
    "    \n",
    "    Parameters\n",
    "    ----------\n",
    "    n_local_dof\n",
    "        Per-element number of degrees of freedom\n",
    "    \"\"\"\n",
    "    if n_local_dof < 2:\n",
    "        raise AssertionError(\"Local degress of freedom must be >= 2!\")\n",
    "\n",
    "    # Setting GLL nodes\n",
    "    alpha = 0.0\n",
    "    beta  = 0.0\n",
    "\n",
    "    xj = numpy.empty(n_local_dof)\n",
    "\n",
    "    # GLL points are the roots of a Jacobi polynomial with alpha = beta = 1,\n",
    "    # plus the interval extrema, -1 and 1.\n",
    "    xj[0] = -1.0\n",
    "    xj[1:-1] = jacobi_roots(n_local_dof-2, alpha+1.0, beta+1.0)\n",
    "    xj[-1] = 1.0\n",
    "\n",
    "    return xj\n",
    "\n",
    "def lagrange(n_local_dof, xi, xj):\n",
    "    \"\"\"Lagrange basis function.\n",
    "\n",
    "    Parameters\n",
    "    ----------\n",
    "    n_local_dof\n",
    "        Number of local degrees of freedom\n",
    "    xi\n",
    "        Distribution of integration points on the element defining the\n",
    "        Lagrangian basis\n",
    "    xj\n",
    "        Points where we evaluate the basis\n",
    "    \"\"\"\n",
    "    # Number of Lagrange basis functions\n",
    "    Q   = n_local_dof\n",
    "    QQ1 = Q*(Q-1)\n",
    "\n",
    "    # Number of evaluation points\n",
    "    npts = xi.shape[0]\n",
    "\n",
    "    # Allocates matrix to store Lagrange basis evaluated at npts points\n",
    "    Hj = numpy.ones([npts, Q])\n",
    "    Hj[:, 0] = ((-1.0)**(Q-1)/QQ1)*(xi-1.0)*(0.5*Q*jacobi_p(xi, Q-2, 1.0, 1.0))\n",
    "    Hj[:,-1] = (1.0/QQ1)*(xi+1.0)*(0.5*Q*jacobi_p(xi, Q-2, 1.0, 1.0))\n",
    "    \n",
    "    Lp  =  jacobi_p(xj, Q-1, 0.0, 0.0)\n",
    "    DLp = djacobi_p(xi, Q-1, 0.0, 0.0)\n",
    "\n",
    "    for j in range(1, Q-1):   # from the second to the second-last column\n",
    "        for i in range(0, npts):\n",
    "            if fabs(xi[i]-xj[j]) > float_info.epsilon:\n",
    "                Hj[i, j] = (xi[i]**2-1.0)*DLp[i]/(QQ1*Lp[j]*(xi[i]-xj[j]))\n",
    "\n",
    "    return Hj\n",
    "\n",
    "def bubble_basis(n_local_dof, xi):\n",
    "    \"\"\"Modal bubble functions.\n",
    "    n_local_dof\n",
    "        Number of local degrees of freedom\n",
    "    xi\n",
    "        Distribution of integration points on the element\n",
    "    \"\"\"\n",
    "    # Number of bubble basis functions\n",
    "    Q = n_local_dof\n",
    "\n",
    "    # Number of evaluation points\n",
    "    npts = xi.shape[0]\n",
    "\n",
    "    # Allocates matrix to store Lagrange basis evaluated at npts points\n",
    "    Bj = numpy.empty([npts, Q])\n",
    "    \n",
    "    # Boundary nodal basis functions (necessary to enforce C^(0) continuity)\n",
    "    Bj[:, 0] = 0.5*(1.0-xi)\n",
    "    Bj[:,-1] = 0.5*(1.0+xi)\n",
    "\n",
    "    # Bubble modes\n",
    "    for j in range(1, Q-1):\n",
    "        Lj   = jacobi_p(xi, j+1, 0.0, 0.0)\n",
    "        Ljm2 = jacobi_p(xi, j-1, 0.0, 0.0)\n",
    "        Bj[:, j] = (Lj-Ljm2)/sqrt(2.0*(2.0*j+1.0))\n",
    "\n",
    "    return Bj\n",
    "    \n",
    "def legendre_basis(n_local_dof, xi):\n",
    "    \"\"\"Legendre basis functions.\n",
    "    n_local_dof\n",
    "        Number of local degrees of freedom\n",
    "    xi\n",
    "        Distribution of integration points on the element\n",
    "    \"\"\"\n",
    "    # Number of bubble basis functions\n",
    "    Q = n_local_dof\n",
    "\n",
    "    # Number of evaluation points\n",
    "    npts = xi.shape[0]\n",
    "\n",
    "    # Allocates matrix to store Lagrange basis evaluated at npts points\n",
    "    Lj = numpy.empty([npts, Q])\n",
    "    \n",
    "    # Legendre basis\n",
    "    for j in range(0, Q):\n",
    "        Lj[:, j] = jacobi_p(xi, j, 0.0, 0.0)\n",
    "\n",
    "    return Lj\n",
    "    \n",
    "class BasisFunctions:\n",
    "    \"\"\"Basis functions and derivatives on quadrature points.\"\"\"\n",
    "    def __init__(self, sim_data, gauss_quad):\n",
    "        \"\"\"\n",
    "        Parameters\n",
    "        ----------\n",
    "        sim_data\n",
    "            SimulationData object\n",
    "        \"\"\"\n",
    "        n_local_dof = sim_data.n_local_dof()\n",
    "\n",
    "        # Constructing the basis functions PHI\n",
    "        if sim_data.basis_type == BasisType.NODAL:\n",
    "            xj = gll_nodes(n_local_dof)\n",
    "            self.psi = lagrange(n_local_dof, gauss_quad.xi, xj)\n",
    "        elif sim_data.basis_type == BasisType.MODAL:\n",
    "            self.psi = bubble_basis(n_local_dof, gauss_quad.xi)\n",
    "        elif sim_data.basis_type == BasisType.MODAL_ORTHOGONAL:\n",
    "            self.psi = legendre_basis(n_local_dof, gauss_quad.xi)\n",
    "        else:\n",
    "            raise AssertionError( \"Wrong basis type!\\n\" )\n",
    "\n",
    "        # Now we construct the derivative of the basis functions, DPHI/DX\n",
    "        nip = sim_data.nip()\n",
    "\n",
    "        self.D = numpy.zeros([nip, nip])\n",
    "\n",
    "        dp  =  d_pq(gauss_quad.xi, nip, 0.0, 0.0, sim_data.node_dist)\n",
    "        dp2 = d2_pq(gauss_quad.xi, nip, 0.0, 0.0, sim_data.node_dist)\n",
    "    \n",
    "        for i in range(0, nip):\n",
    "            for j in range(0, nip):\n",
    "                # Never do \"ifs\" inside loops! Just for pedagogic reasons.\n",
    "                if i == j:\n",
    "                    self.D[i, j] = dp2[i]/(2.0*dp[i])\n",
    "                else:\n",
    "                    dx = gauss_quad.xi[i] - gauss_quad.xi[j]\n",
    "                    self.D[i, j] = dp[i]/(dp[j]*dx)\n",
    "\n",
    "        self.dpsi = self.D.dot(self.psi)\n",
    "\n",
    "#-- basis_functions.py ---------------------------------------------------------\n"
   ]
  },
  {
   "cell_type": "code",
   "execution_count": 11,
   "metadata": {
    "collapsed": true
   },
   "outputs": [],
   "source": [
    "# Basis functions and derivatives evaluated at quadrature points\n",
    "basis = BasisFunctions(sim_data, quad_data)"
   ]
  },
  {
   "cell_type": "code",
   "execution_count": 12,
   "metadata": {
    "collapsed": false
   },
   "outputs": [
    {
     "data": {
      "image/png": "[encoded data removed]",
      "text/plain": [
       "<matplotlib.figure.Figure at 0x2aefd0c4eb8>"
      ]
     },
     "metadata": {},
     "output_type": "display_data"
    }
   ],
   "source": [
    "# We can also plot some of the functions\n",
    "xp = numpy.linspace(-1.0, 1.0, basis.psi.shape[0])\n",
    "\n",
    "pyplot.figure(3)\n",
    "pyplot.clf()\n",
    "pyplot.plot(xp, basis.psi[:,1].T)\n",
    "pyplot.plot(xp, basis.psi[:,3].T)\n",
    "pyplot.plot(xp, basis.psi[:,6].T)\n",
    "pyplot.show()"
   ]
  },
  {
   "cell_type": "markdown",
   "metadata": {},
   "source": [
    "> Can you explain why the graphics seem so sharp? After all, they are all polynomials..."
   ]
  },
  {
   "cell_type": "markdown",
   "metadata": {},
   "source": [
    "### Jacobian\n",
    "\n",
    "As we have seen in the theoretical part, there is a Jacobian involved in the numerical integration due to the transformation of all integrals from the real elements to the standard one. The Jacobian is evaluated by the same _Mesh1D_ class used before. After Jacobian evaluation two more data members become available:\n",
    "\n",
    "- `J`, the Jacobian matrix, and\n",
    "- `x`, a mapping of the integration points (remember, they are all in $[-1,1]$) to the real elements"
   ]
  },
  {
   "cell_type": "markdown",
   "metadata": {},
   "source": [
    "> We don't need to load again `mesh_gen_1d.py`!"
   ]
  },
  {
   "cell_type": "code",
   "execution_count": 13,
   "metadata": {
    "collapsed": true
   },
   "outputs": [],
   "source": [
    "mesh.jacobian(sim_data, quad_data)"
   ]
  },
  {
   "cell_type": "markdown",
   "metadata": {},
   "source": [
    "### Calculating $\\Delta t$ and the number of time steps"
   ]
  },
  {
   "cell_type": "code",
   "execution_count": 14,
   "metadata": {
    "collapsed": false
   },
   "outputs": [],
   "source": [
    "# Calculates dt and number of time steps\n",
    "xmin = numpy.fabs(mesh.x[0,:]-mesh.x[1,:]).min()\n",
    "CFL = 0.75\n",
    "dt = 0.5*CFL*xmin/numpy.pi\n",
    "dt = 0.5*dt\n",
    "Nsteps = ceil(sim_data.t_max()/dt)\n",
    "dt = sim_data.t_max()/Nsteps\n",
    "\n",
    "# Reduced number of steps to evaluate overall behaviour\n",
    "Nsteps = 100"
   ]
  },
  {
   "cell_type": "markdown",
   "metadata": {},
   "source": [
    "### Making room for the solution\n",
    "\n",
    "We will record every step of the solution so we can make a movie showing the temporal evolution."
   ]
  },
  {
   "cell_type": "code",
   "execution_count": 15,
   "metadata": {
    "collapsed": true
   },
   "outputs": [],
   "source": [
    "# We will store the solution at every time step, so we need to make room for it\n",
    "u = numpy.zeros([sim_data.n_global_dof(), Nsteps+1])"
   ]
  },
  {
   "cell_type": "markdown",
   "metadata": {},
   "source": [
    "### Preparing the initial condition\n",
    "\n",
    "To make the framework flexible, we define a function `ic_function(x)` representing the initial condition. Change the function, and you automatically change the solution. Note that if we choose the `NODAL` basis the initial condition is simply copied over; otherwise it must be projected, or, in other words, written in terms of the basis functions."
   ]
  },
  {
   "cell_type": "markdown",
   "metadata": {},
   "source": [
    "> We need to load __two files__: `local_matrices.py` and `ic_projection.py`."
   ]
  },
  {
   "cell_type": "code",
   "execution_count": 16,
   "metadata": {
    "collapsed": true
   },
   "outputs": [],
   "source": [
    "# %load local_matrices.py\n",
    "# \n",
    "# Local mass and stiffness matrices\n",
    "# =================================\n",
    "#\n",
    "# by Alberto Costa Nogueira Jr. (Matlab and Python versions)\n",
    "#    Renato Cantao (Python version)\n",
    "#\n",
    "import numpy\n",
    "\n",
    "def local_mass(quad_data, basis):\n",
    "    \"\"\"Constructs the elemental mass matrix\n",
    "\n",
    "    Arguments:\n",
    "        quad_data - Quadrature points and weights\n",
    "        basis - Basis and respective derivatives\n",
    "\n",
    "    Returns:\n",
    "        Mass matrix M, where m_ij = \\int_k psi_i psi_j\n",
    "    \"\"\"\n",
    "    return numpy.dot(quad_data.w*basis.psi.T, basis.psi)\n",
    "\n",
    "def local_mass_diagonal(quad_data, basis):\n",
    "    \"\"\"Constructs the elemental mass matrix, diagonal version\n",
    "\n",
    "    Arguments:\n",
    "        quad_data - Quadrature points and weights\n",
    "        basis - Basis and respective derivatives\n",
    "\n",
    "    Returns:\n",
    "        Mass matrix M, where m_ii = \\int_k psi_i psi_i\n",
    "    \"\"\"\n",
    "    return numpy.sum(quad_data.w*basis.psi.T**2, axis=1)\n",
    "\n",
    "def local_stiffness(quad_data, basis):\n",
    "    \"\"\"Constructs the elemental stiffness matrix\n",
    "\n",
    "    Arguments:\n",
    "        quad_data - Quadrature points and weights\n",
    "        basis - Basis and respective derivatives\n",
    "\n",
    "    Returns:\n",
    "        Stiffness matrix S, where s_ij = \\int_k psi_i Dpsi_j/dx\n",
    "    \"\"\"\n",
    "    return numpy.dot(quad_data.w*basis.psi.T, basis.dpsi)\n",
    "\n",
    "#-- local_matrices.py ----------------------------------------------------------\n"
   ]
  },
  {
   "cell_type": "code",
   "execution_count": 17,
   "metadata": {
    "collapsed": true
   },
   "outputs": [],
   "source": [
    "# %load ic_projection.py\n",
    "# \n",
    "# Projection of initial condition\n",
    "# ===============================\n",
    "#\n",
    "# by Alberto Costa Nogueira Jr. (Matlab and Python versions)\n",
    "#    Renato Cantao (Python version)\n",
    "#\n",
    "import numpy\n",
    "\n",
    "def ic_projection(quad_data, basis, fxi, M):\n",
    "    \"\"\"Projects the initial condition into polynomial space.\n",
    "\n",
    "    Arguments:\n",
    "        sim_data - SimulationData object\n",
    "        quad_data - Quadrature points and weights\n",
    "        basis - Basis and respective derivatives\n",
    "        fxi - Function to be projected\n",
    "        M - Elemental mass matrix\n",
    "        is_diagonal - Hint to the solver. Diagonal matrices are much faster to\n",
    "            solve\n",
    "\n",
    "    Returns:\n",
    "        Polynomial coefficients corresponding to fxi\n",
    "    \"\"\"\n",
    "    return numpy.linalg.solve(M, numpy.dot(quad_data.w*basis.psi.T, fxi))\n"
   ]
  },
  {
   "cell_type": "code",
   "execution_count": 18,
   "metadata": {
    "collapsed": false
   },
   "outputs": [],
   "source": [
    "# Initial condition function\n",
    "# 'x' can be a number, a list or any NumPy array\n",
    "def ic_function(x):\n",
    "    import numpy\n",
    "    return numpy.sin(x)\n",
    "\n",
    "# Projection of the initial condition onto the elements\n",
    "phi = numpy.zeros(sim_data.n_global_dof())\n",
    "\n",
    "if sim_data.basis_type == BasisType.NODAL:\n",
    "    phi = ic_function(mesh.x.T.flat)\n",
    "else:\n",
    "    M = local_mass(quad_data, basis)\n",
    "    for k in range(0, sim_data.n_elements):\n",
    "        fproj = ic_projection(quad_data, basis, ic_function(mesh.x[:, k]), M)\n",
    "        phi[sim_data.n_local_dof()*k:sim_data.n_local_dof()*(k+1)] = fproj"
   ]
  },
  {
   "cell_type": "markdown",
   "metadata": {},
   "source": [
    "### Finally, the time iteration!\n",
    "\n",
    "Load the `rk4.py` file and be happy!"
   ]
  },
  {
   "cell_type": "markdown",
   "metadata": {},
   "source": [
    "> After __all__ this code, the solution process resumes to __four lines of code__!"
   ]
  },
  {
   "cell_type": "code",
   "execution_count": 19,
   "metadata": {
    "collapsed": false
   },
   "outputs": [],
   "source": [
    "# %load rk4.py\n",
    "# \n",
    "# Runge-Kutta 4 steps method\n",
    "# ==========================\n",
    "#\n",
    "# by Alberto Costa Nogueira Jr. (Matlab and Python versions)\n",
    "#    Renato Cantao (Python version)\n",
    "#\n",
    "from simulation_data import BasisType\n",
    "from eval_k import eval_k\n",
    "\n",
    "def RK4(sim_data, quad_data, basis, mesh, tstep, t, dt, ic, u, phi):\n",
    "    \"\"\"Runge-Kutta 4 steps.\n",
    "\n",
    "    Arguments:\n",
    "        sim_data - SimulationData object\n",
    "        quad_data - Quadrature points and weights\n",
    "        basis - Basis and respectivederivatives\n",
    "        mesh - 1D Finite Elements mesh\n",
    "        tstep - present time step (integer)\n",
    "        t - simulation time\n",
    "        dt - delta t\n",
    "        ic - initial condition function\n",
    "        u - solution\n",
    "        phi -\n",
    "\n",
    "    Returns:\n",
    "        A step of the RK4 method\n",
    "    \"\"\"\n",
    "    ngdof = sim_data.n_global_dof()\n",
    "\n",
    "    # RK4\n",
    "    k1 = eval_k(sim_data, quad_data, basis, mesh, phi, ic, t)\n",
    "    k2 = eval_k(sim_data, quad_data, basis, mesh, phi+0.5*dt*k1, ic, t)\n",
    "    k3 = eval_k(sim_data, quad_data, basis, mesh, phi+0.5*dt*k2, ic, t)\n",
    "    k4 = eval_k(sim_data, quad_data, basis, mesh, phi+dt*k3, ic, t)\n",
    "    \n",
    "    phi = phi+dt*(k1+2.0*k2+2.0*k3+k4)/6.0\n",
    "\n",
    "    # Recovers displacement solution u for modal type basis\n",
    "    if sim_data.basis_type == BasisType.NODAL:\n",
    "        u[:, tstep] = phi[0:ngdof]\n",
    "    else:\n",
    "        nip = sim_data.nip()\n",
    "        nldof = sim_data.n_local_dof()\n",
    "\n",
    "        u_hat = phi[0:ngdof]\n",
    "\n",
    "        for k in range(0, sim_data.n_elements):\n",
    "            u[nip*k:nip*(k+1), tstep] = \\\n",
    "                u_hat[nldof*k:nldof*(k+1)].dot(basis.psi.T)\n",
    "\n",
    "    return (u, phi)\n",
    "\n",
    "#-- rk4.py ---------------------------------------------------------------------\n"
   ]
  },
  {
   "cell_type": "code",
   "execution_count": 20,
   "metadata": {
    "collapsed": true
   },
   "outputs": [],
   "source": [
    "# Time marching (RK4 time integrator)\n",
    "t = sim_data.t_min()\n",
    "\n",
    "for tstep in range(1, Nsteps+1):\n",
    "    u, phi = RK4(sim_data, quad_data, basis, mesh, tstep, t, dt, ic_function, u, phi)\n",
    "    t = t+dt"
   ]
  },
  {
   "cell_type": "markdown",
   "metadata": {},
   "source": [
    "### Viewing the solution\n",
    "\n",
    "If you have installed the _JSAnimation_ library you can generate a small movie showing the evolution of the solution along the time. If you get a message __`ImportError: No module named JSAnimation.IPython_display`__ do not dispair! We can still resort to _matplotlib_ to plot a few steps."
   ]
  },
  {
   "cell_type": "markdown",
   "metadata": {},
   "source": [
    "#### Creating a movie"
   ]
  },
  {
   "cell_type": "code",
   "execution_count": 25,
   "metadata": {
    "collapsed": false
   },
   "outputs": [],
   "source": [
    "from matplotlib import animation\n",
    "from JSAnimation.IPython_display import display_animation"
   ]
  },
  {
   "cell_type": "code",
   "execution_count": null,
   "metadata": {
    "collapsed": false
   },
   "outputs": [],
   "source": [
    "# Lets do some movies!\n",
    "# From https://jakevdp.github.io/blog/2012/08/18/matplotlib-animation-tutorial/\n",
    "\n",
    "# First set up the figure, the axis, and the plot element we want to animate\n",
    "fig = pyplot.figure(4)\n",
    "ax = pyplot.axes(xlim=(sim_data.spatial_domain[0], sim_data.spatial_domain[1]),\n",
    "            ylim=(numpy.min(u), numpy.max(u)))\n",
    "ax.grid(True)\n",
    "line, = ax.plot([], [], lw=2)\n",
    "\n",
    "# Initialization function: plot the background of each frame\n",
    "def init():\n",
    "    line.set_data([], [])\n",
    "    return line,\n",
    "\n",
    "# Animation function.  This is called sequentially\n",
    "def animate(i):\n",
    "    global u, mesh\n",
    "    x = mesh.x.T.flat\n",
    "    y = u[:, i]\n",
    "    line.set_data(x, y)\n",
    "    return line,\n",
    "\n",
    "# call the animator.  blit=True means only re-draw the parts that have changed.\n",
    "anim = animation.FuncAnimation(fig, animate, init_func=init,\n",
    "                               frames=Nsteps, interval=20, blit=True)\n",
    "\n",
    "display_animation(anim, default_mode=\"once\")"
   ]
  },
  {
   "cell_type": "markdown",
   "metadata": {
    "collapsed": true
   },
   "source": [
    "#### Plotting some steps of the solution\n",
    "\n",
    "The solution `u` has `Nsteps` columns, precisely one for each time step. In order to view some is simple, as shown in the code below."
   ]
  },
  {
   "cell_type": "code",
   "execution_count": 27,
   "metadata": {
    "collapsed": false
   },
   "outputs": [
    {
     "data": {
      "image/png": "[encoded data removed]",
      "text/plain": [
       "<matplotlib.figure.Figure at 0x2aefd13ee80>"
      ]
     },
     "metadata": {},
     "output_type": "display_data"
    }
   ],
   "source": [
    "# Plotting a few samples of the solution along the time\n",
    "pyplot.figure(5)\n",
    "pyplot.clf()\n",
    "x = mesh.x.T.flat\n",
    "pyplot.plot(x, u[:,5])    # tstep = 5\n",
    "pyplot.plot(x, u[:,50])   # tstep = 50\n",
    "pyplot.plot(x, u[:,100])  # tstep = 100\n",
    "pyplot.show()"
   ]
  },
  {
   "cell_type": "code",
   "execution_count": null,
   "metadata": {
    "collapsed": true
   },
   "outputs": [],
   "source": []
  }
 ],
 "metadata": {
  "kernelspec": {
   "display_name": "Python 3",
   "language": "python",
   "name": "python3"
  },
  "language_info": {
   "codemirror_mode": {
    "name": "ipython",
    "version": 3
   },
   "file_extension": ".py",
   "mimetype": "text/x-python",
   "name": "python",
   "nbconvert_exporter": "python",
   "pygments_lexer": "ipython3",
   "version": "3.5.1"
  }
 },
 "nbformat": 4,
 "nbformat_minor": 0
}
