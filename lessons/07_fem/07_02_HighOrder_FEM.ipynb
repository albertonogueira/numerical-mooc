{
 "cells": [
  {
   "cell_type": "markdown",
   "metadata": {},
   "source": [
    "# Introduction to the Finite Element Method (FEM): Nodal and Modal Interpolations"
   ]
  },
  {
   "cell_type": "markdown",
   "metadata": {},
   "source": [
    "#### *Marco Lúcio Bittencourt* (mlb@fem.unicamp.br), *Cláudio Alessandro de Carvalho Silva* (cacs@thorus-scisoft.com.br) and *Alberto Costa Nogueira Junior* (albercn@br.ibm.com)"
   ]
  },
  {
   "cell_type": "markdown",
   "metadata": {},
   "source": [
    "The basic concepts about the Finite Element Method presented in the previous class will now be generalized regarding interpolation functions (the very heart of FEM) and practical aspects of numerical integration."
   ]
  },
  {
   "cell_type": "markdown",
   "metadata": {},
   "source": [
    "## Normalized Local Coordinate Systems"
   ]
  },
  {
   "cell_type": "markdown",
   "metadata": {},
   "source": [
    "In the FEM code presented in the previous class, the $0\\leq x \\leq L$ domain representing the bar length was discretized in a number of finite elements with the same length $h_e$. Off course, that was a simplification. In fact, the most common discretization involves elements of diferent sizes and - in higher geometric dimensions - different shapes. If all that had to be taken into account in the original problem domain, we would greatly reduce the flexibility of FEM for dealing with complicated domain geometries.\n",
    "\n",
    "The basic technique employed to generalize the FEM is the use of normalized local coordinate systems to define the elements and perform most of the computations associated to each element (such as the computation of stiffness matrices and load vectors) instead of using the original global coordinate system in which the problem is defined. If suitable local/global mappings are defined, all operations can then be executed transparently.\n",
    "\n",
    "The advantages of using normalized local coordinate systems are:\n",
    "- Fixed integration limits for the computation of element matrices and load vectors.\n",
    "- Simpler definition of polynomial interpolation functions.\n",
    "- Use of distorted elements in FEM meshes.\n",
    "\n",
    "The next figure shows the relationship between a normalized local coordinate system $-1\\leq \\xi_1 \\leq 1$ and the subdomain $x_1 \\leq x\\leq x_2$ of a 1-D element of length $L$ defined in the global non-normalized system.\n",
    "<table style=\"width:70%; border-style:hidden\">\n",
    "  <tr>\n",
    "    <td style=\"border-style:hidden; text-align:center\">![sistemas_locais](figs/sistemas_locais.png) <br><b>Normalized and non-normalized coordinate systems.</b> </td>\t\t\n",
    "  </tr>\n",
    "</table>\n",
    "\n",
    "Assuming a linear mapping for $x(\\xi_1)$ such as\n",
    "\\begin{equation}\n",
    "x(\\xi_1) = a\\xi_1+b\n",
    "\\end{equation}\n",
    "the coefficients $a$ and $b$ are determined by\n",
    "\\begin{equation}\n",
    "\\left. \\begin{array}{l} x(-1) = a(-1)+b=x_1 \\\\ x(1) = a(1)+b=x_2 \\end{array}\\right\\}\n",
    "\\rightarrow \\begin{array}{l}  a=\\frac 12(x_2-x_1)=\\frac L2 \\\\ b=\\frac 12(x_1+x_2) \\end{array}\n",
    "\\end{equation}\n",
    "and the inverse mapping is \n",
    "\\begin{equation}\n",
    "\\xi_1(x) = \\frac{2x(\\xi_1) - (x_1+x_2)}{x_2-x_1}\n",
    "\\end{equation}\n",
    "*Natural coordinates* $L_1$ and $L_2$ ($0\\leq L_i\\leq 1$) can be also used to define a local coordinate system:\n",
    "<table style=\"width:70%; border-style:hidden\">\n",
    "  <tr>\n",
    "    <td style=\"border-style:hidden; text-align:center\">![sist_coord_natural](figs/sist_coord_natural.png) <br><b>Natural coordinate system.</b> </td>\t\t\n",
    "  </tr>\n",
    "</table>\n",
    "\n",
    "\\begin{equation}\n",
    "l_1+l_2 = l \\;\\;\\rightarrow\\;\\; \\frac{l_1}{l}+\\frac{l_2}{l} =1 \\;\\;\\rightarrow\\;\\;\n",
    "L_1+L_2=1\n",
    "\\end{equation}\n",
    "\n",
    "The previous local coordinate systems are related as\n",
    "\\begin{equation}\n",
    "\\xi_1(L_1) = 2L_1-1 \\qquad\\qquad L_1(\\xi_1) = \\frac{1}{2}(1+\\xi_1)\n",
    "\\end{equation}\n",
    "<table style=\"width:70%; border-style:hidden\">\n",
    "  <tr>\n",
    "    <td style=\"border-style:hidden; text-align:center\">![natural_csi](figs/natural_csi.png) <br><b>Mappings between normalized systems.</b> </td>\t\n",
    "  </tr>\n",
    "</table>"
   ]
  },
  {
   "cell_type": "markdown",
   "metadata": {},
   "source": [
    "## 1-D Lagrange Polynomials"
   ]
  },
  {
   "cell_type": "markdown",
   "metadata": {},
   "source": [
    "\"For a given set of distinct points $x_j$ and numbers $y_j$, the *Lagrange polynomial* is the polynomial of the least degree that at each point $x_j$ assumes the corresponding value $y_j$, *i.e.* the functions coincide at each point.\" (*Wikipedia*)\n",
    "\n",
    "The following expression defines a Lagrange polynomial $l_{p}^{(P_1)}(\\xi_1)$ of order $P_1$ in the local system $\\xi_1$:\n",
    "\\begin{equation}\n",
    "l_{p}^{(P_1)}(\\xi_1) =  \\displaystyle\\prod_{q=0(p\\neq\n",
    "q)}^{P_1}\\frac{(\\xi_1 -\\xi_{1_q})} {(\\xi_{1_p}-\\xi_{1_q})}\n",
    "\\end{equation}\n",
    "\n",
    "Lagrange polynomials of order $P_1$ can also be defined in direction $L_1$ of the natural coordinate system:\n",
    "\\begin{equation}\n",
    "l_p^{(P_1)}(L_1) =  \\prod_{q=0, p\\neq q}^{P_1}\\frac{(L_{1}-L_{1_q})}\n",
    "{\\displaystyle(L_{1_p}-L_{1_q})}\n",
    "\\end{equation}\n",
    "\n",
    "When the Lagrange polynomials are used for interpolation in FEM, **one interpolation function is associated to each of the element's nodes.** Therefore, Lagrange polynomials of order $P_1$ are required for the interpolation on elements with $P_1+ 1$ nodes.\n",
    "<table style=\"width:50%; border-style:hidden\">\n",
    "  <tr>\n",
    "    <td style=\"border-style:hidden; text-align:center\">![lagrange](figs/lagrange.png) <br><b>Mappings Nodes in the $\\xi_1$ system.</b></td>\t\t\n",
    "  </tr>\n",
    "</table>\n",
    "\n",
    "The Python code below computes and plots 1-D Lagrange polynomials of fourth order. Most of the code is parametrized. You can easily compute and visualize polynomials of different orders."
   ]
  },
  {
   "cell_type": "code",
   "execution_count": 1,
   "metadata": {
    "collapsed": false
   },
   "outputs": [],
   "source": [
    "import numpy  \n",
    "import math #usefull functions: math.factorial(x), math.floor(), math.ceil()\n",
    "from matplotlib import pyplot                 \n",
    "%matplotlib inline\n",
    "from matplotlib import rcParams\n",
    "rcParams['font.family'] = 'serif'\n",
    "rcParams['font.size'] = 16"
   ]
  },
  {
   "cell_type": "code",
   "execution_count": 2,
   "metadata": {
    "collapsed": false
   },
   "outputs": [
    {
     "data": {
      "text/plain": [
       "[<matplotlib.lines.Line2D at 0x2260c121b00>]"
      ]
     },
     "execution_count": 2,
     "metadata": {},
     "output_type": "execute_result"
    },
    {
     "data": {
      "image/png": "[encoded data removed]",
      "text/plain": [
       "<matplotlib.figure.Figure at 0x2260c469e10>"
      ]
     },
     "metadata": {},
     "output_type": "display_data"
    }
   ],
   "source": [
    "NNodes = 5        # Number of nodes\n",
    "degree = NNodes-1 # Degree of 1-D nodal functions\n",
    "\n",
    "# Coordinates of nodes in $\\xi$ system \n",
    "xi_coords = numpy.linspace(-1.0, 1.0, NNodes)\n",
    "\n",
    "# One term of a Lagrange polynomial\n",
    "def l(xi, xi_p, xi_q):\n",
    "    return (xi-xi_q)/(xi_p-xi_q)\n",
    "\n",
    "# pth Lagrange polynomial of degree dg in the &\\xi$ system\n",
    "def lp(xi, p, dg):\n",
    "    q = numpy.array(range(1,dg+1))\n",
    "    for j in range(0, p):\n",
    "        q[ j ] = j\n",
    "    prod = 1.0\n",
    "    for i in range(0,dg):\n",
    "        prod = prod * l(xi,xi_coords[p],xi_coords[q[i]])\n",
    "    return prod\n",
    "\n",
    "# Array of values for plotting Lagrange polynomials of degree four\n",
    "x   = numpy.linspace(-1.0, 1.0, 50)\n",
    "pl  = numpy.array(range(0, NNodes)) \n",
    "lag = numpy.empty_like(pl, dtype=numpy.ndarray)\n",
    "\n",
    "# Computes Lagrange polynomials for NNodes\n",
    "for i in range(0, NNodes):\n",
    "    lag[ i ] = lp( x, i, degree )\n",
    "\n",
    "pyplot.figure(figsize=(8,3))\n",
    "pyplot.grid(True)\n",
    "pyplot.xlabel(r'$\\xi$', fontsize=18)\n",
    "pyplot.ylabel(r'$l_p$', fontsize=18)\n",
    "pyplot.tick_params(axis='both', labelsize=12)\n",
    "pyplot.plot(x,lag[0], 'r-', lw=2, label='$l_0$')\n",
    "pyplot.plot(x,lag[1], 'b-', lw=2, label='$l_1$')\n",
    "pyplot.plot(x,lag[2], 'g-', lw=2, label='$l_2$')\n",
    "pyplot.plot(x,lag[3], 'y-', lw=2, label='$l_3$')\n",
    "pyplot.plot(x,lag[4], 'm-', lw=2, label='$l_4$')"
   ]
  },
  {
   "cell_type": "markdown",
   "metadata": {},
   "source": [
    "In the figure above, note the **colocation property**: $l_{p}^{(P_1)}(\\xi_{1_q}) =\\delta_{pq}$, that is, each Lagrange function is a *Kronecker delta* relative to the nodes. Interpolation functions with the colocation property relative to the nodes of an element are called **nodal interpolation functions**. "
   ]
  },
  {
   "cell_type": "markdown",
   "metadata": {},
   "source": [
    "## 1-D Nodal Interpolation Functions"
   ]
  },
  {
   "cell_type": "markdown",
   "metadata": {},
   "source": [
    "Using the concept of Lagrange polynomials, 1-D nodal interpolation functions for the finite element method can be defined either in the system $\\xi_1$ or in the system $L_1$ as:\n",
    "\n",
    "Local coordinate system $\\xi_1$\n",
    "\\begin{equation}\n",
    "N_p(\\xi_1)=\\phi_p(\\xi_1)=\\left\\{\n",
    "\\begin{array}{lll}\n",
    " \\frac{1}{2}(1-\\xi_1)L_{p,P_1}^{(P_{1}-1)}(\\xi_1) & p=0 \\\\\n",
    " \\frac{1}{2}(1+\\xi_1)L_{p,0}^{(P_{1}-1)}(\\xi_1) & p=P_1 \\\\\n",
    " \\frac{1}{4}(1-\\xi_1)(1+\\xi_1)L_p^{(P_{1}-2)}(\\xi_1) & 0 < p < P_{1}\n",
    "\\end{array}\\right.\n",
    "\\end{equation}\n",
    "\n",
    "Local coordinate system $L_1$\n",
    "\\begin{equation}\n",
    " N_p(L_1)=\\phi_p(L_1)=\\left\\{\n",
    "\\begin{array}{lll}\n",
    " (1-L_1)L_p^{(P_1-1)}(L_1) & p=0 \\\\\n",
    " L_1L_p^{(P_1-1)}(L_1) & p= P_1 \\\\\n",
    "(1-L_1)L_1L_p^{(P_1-2)}(L_1) & 0 < p < P_1\n",
    "\\end{array}\\right.\n",
    "\\end{equation}\n",
    "\n",
    "where\n",
    "\\begin{equation}\n",
    "L_{p,l}^{P_1-1}(\\xi_{1}) = -\\frac{\\prod_{q=0,q\\neq \\{p,l\\}}^{P_1}(\\xi_{1} - {\\xi_{1}}_{q})}{\\prod_{q=0,q\\neq \\{p,l\\}}^{P_1}({\\xi_{1}}_{p} - {\\xi_{1}}_{q})}\\qquad\\qquad\n",
    "%\n",
    "L_{p}^{P_1-2}(\\xi_{1})=-4\\frac{\\prod_{q=1,q\\neq p}^{P_1-1}(\\xi_{1} - {\\xi_{1}}_{q})}{\\prod_{q=1,q\\neq p}^{P_1-1}({\\xi_{1}}_{p} - {\\xi_{1}}_{q})}\n",
    "\\end{equation}"
   ]
  },
  {
   "cell_type": "markdown",
   "metadata": {},
   "source": [
    "The stiffness and mass matrices for the bar in the local system $\\xi_1$ are\n",
    "\\begin{equation}\n",
    "[M_e] = \\int_{-1}^{1} [N_e]^T[N_e]Ad\\xi_1\\qquad\\qquad\n",
    "[K_e] = \\int_{-1}^{1} [B_e]^T[D][B_e]Ad\\xi_1\n",
    "\\end{equation}\n",
    "\n",
    "Those matrices have the following sparsity profiles for $P=4$:\n",
    "<table style=\"width:50%; border-style:hidden\">\n",
    "  <tr>\n",
    "    <td style=\"border-style:hidden; text-align:center\">![Me_1D_lag_spy_P4](figs/Me_1D_lag_spy_P4.png) <br><b>Mass Matrix</b></td>\n",
    "    <td style=\"text-align:center\">![Me_1D_lag_spy_P4](figs/Me_1D_lag_spy_P4.png) <br><b>Stiffness Matrix</b></td>\t\t\n",
    "  </tr>\n",
    "</table>\n",
    "\n",
    "Note that both matrices are full. In fact, no orthoganilty property was required when defining the 1-D nodal interpolation funcions."
   ]
  },
  {
   "cell_type": "markdown",
   "metadata": {},
   "source": [
    "## Some comments on polynomial expasion approximation"
   ]
  },
  {
   "cell_type": "markdown",
   "metadata": {},
   "source": [
    "In the previous class, it was shown that the FEM employs a polynomial expansion of compact support functions to approximate the solution of the weak formulation. The better the characteristics of that polynomial expansion, the better the approximation.\n",
    "\n",
    "On way to increase the quality of the approximation is, while keeping the same local interpolation, to increase the number of elements (*h*-refinement). Students are invited to test this property in the FEM code provided previously. Another way is to increase the order of the terms in the polynomial expansion. As seen in the previous sections, one can use higher order **nodal** interpolation functions provided each element had the required number of nodes ($P_1$ order requires elements with $P_1+1$ nodes).\n",
    "\n",
    "However, higher order functions can be **nodal** or **modal**. The nodal interpolation has the colocation property in such way that each function is one on one node and zero on the others. This leads to a direct physical interpretation of the interpolation coefficients. However, increasing the interpolation order demands increasing the number of physical nodes, which limits the aplicability of the method, specially on higher geometric dimensions.\n",
    "\n",
    "**Modal** interpolations does not have colocation property and then there may be no physical interpretation of the interpolation coefficients. There is no requirement of increasing the number of nodes to increase the interpolation order. This allows greater flexibility of having different interpolation orders on the same mesh."
   ]
  },
  {
   "cell_type": "markdown",
   "metadata": {},
   "source": [
    "## 1-D Jacobi Polynomials"
   ]
  },
  {
   "cell_type": "markdown",
   "metadata": {},
   "source": [
    "*Jacobi polynomials* belong to the class of orthogonal polynomials.\n",
    "\n",
    "The *Jacobi polynomials* of order $p$ with weights $\\alpha,\\beta$ in the variable $-1\\leq \\xi_1\\leq 1$ are denoted $P_p^{\\alpha,\\beta}(\\xi_1)$. They satisfy the following **orthogonality condition** in the $\\xi_1$-coordinate system\n",
    "\\begin{equation}\n",
    "\\int_{-1}^{1} (1-\\xi_1)^\\alpha (1+\\xi_1)^\\beta P_n^{\\alpha,\\beta}(\\xi_1) P_m^{\\alpha,\\beta}(\\xi_1)d\\xi_1 = C\\delta_{mn}\n",
    "\\end{equation}\n",
    "or in the $L_1$-coordinate system\n",
    "\\begin{equation}\n",
    "\\int_{0}^{1} (1-L_1)^\\alpha L_1^\\beta P_n^{\\alpha,\\beta}(2L_1-1) P_m^{\\alpha,\\beta}(2L_1-1)dL_1 = D\\delta_{mn}\n",
    "\\end{equation}\n",
    "\n",
    "*Legendre* and *Chebyshev* polynomials are special cases of Jacobi polynomials according to specific values of weights:\n",
    "- Legendre polynomials: $\\alpha=\\beta=0$\n",
    "- Chebyshev polynomials: $\\alpha=\\beta=-\\frac12$\n",
    "\n",
    "Jacobi polynomials are generated by the following recurrence relation:\n",
    "\\begin{equation}\\begin{array}{rll}\n",
    "{P}_{0}^{\\alpha, \\beta}(\\xi_{1}) &=& 1\\\\\n",
    "{P}_{1}^{\\alpha, \\beta}(\\xi_{1}) &=& \\frac{1}{2}[\\alpha-\\beta+(\\alpha+\\beta+2)\\xi_{1}]\\\\\n",
    "a_{p}^{1}{P}_{p+1}^{\\alpha,\\beta}(\\xi_{1})&=& (a_{p}^{2}+a_{p}^{3}\\xi_{1}){P}_{p}^{\\alpha, \\beta}(\\xi_{1})-a_{p}^{4}{P}_{p-1}^{\\alpha, \\beta}(\\xi_{1})\\\\\n",
    "a_{p}^{1}&=&2(p+1)(p+\\alpha+\\beta+1)(2p+\\alpha+\\beta)\\\\\n",
    "a_{p}^{2}&=&(2p+\\alpha+\\beta+1)(\\alpha^{2}-\\beta^{2})\\\\\n",
    "a_{p}^{3}&=&(2p+\\alpha+\\beta)(2p+\\alpha+\\beta+1)(2p+\\alpha+\\beta+2)\\\\\n",
    "a_{p}^{4}&=&2(p+\\alpha)(p+\\beta)(2p+\\alpha+\\beta+2)\n",
    "\\end{array}\n",
    "\\end{equation}\n",
    "\n",
    "That recurrence relation is implemented by the Python code below."
   ]
  },
  {
   "cell_type": "code",
   "execution_count": 3,
   "metadata": {
    "collapsed": false
   },
   "outputs": [
    {
     "data": {
      "text/plain": [
       "[<matplotlib.lines.Line2D at 0x2260c702908>]"
      ]
     },
     "execution_count": 3,
     "metadata": {},
     "output_type": "execute_result"
    },
    {
     "data": {
      "image/png": "[encoded data removed]",
      "text/plain": [
       "<matplotlib.figure.Figure at 0x2260c5b44e0>"
      ]
     },
     "metadata": {},
     "output_type": "display_data"
    }
   ],
   "source": [
    "def JacobiP(r,m,alpha,beta):\n",
    "# Pm, Pn -- mth-order Jacobi polynomial with weights alpha and beta evaluated at point r\n",
    "# Pn0, Pn1, Pn2 -- Jacobi polynomials of order n-1, n and n+1\n",
    "# a1n, a2n, a3n, a4n -- recursive coefficients to compute Jacobi polynomials\n",
    "    \n",
    "    #Jacobi polynomials evaluated at point r\n",
    "    Pn0 = 1.\n",
    "    Pn1 = 0.5*(alpha - beta + (alpha + beta + 2) * r);\n",
    "    \n",
    "    for n in range(1,m):\n",
    "        a1n = 2.*(n+1)*(n + alpha + beta +1)*(2.*n + alpha + beta)\n",
    "        a2n = (2.*n + alpha + beta + 1)*(alpha**2 - beta**2)\n",
    "        a3n = (2.*n + alpha + beta)*(2.*n + alpha + beta + 1)*(2.*n + alpha + beta + 2)\n",
    "        a4n = 2.*(n + alpha)*(n + beta)*(2.*n + alpha + beta + 2)\n",
    "        \n",
    "        Pn2 = (1./a1n)*((a2n + a3n * r)*Pn1 - a4n*Pn0)\n",
    "        \n",
    "        Pn0 = Pn1\n",
    "        Pn1 = Pn2\n",
    "    \n",
    "    if m == 1:\n",
    "        Pm = Pn1\n",
    "    elif m > 1:\n",
    "        Pm = Pn2\n",
    "    else: \n",
    "        Pm = Pn0\n",
    "    \n",
    "    return Pm\n",
    "\n",
    "# Data for visualization of polynomials\n",
    "NOrders = 5     # number of polynomials of consecutive orders to be generated\n",
    "o   = numpy.array(range(1, NOrders+1))               \n",
    "jac = numpy.empty_like(o, dtype=numpy.ndarray)\n",
    "\n",
    "for i in range(0, NOrders):\n",
    "    jac[ i ] = JacobiP( x, o[i], 0, 0 ) # I am choosing Legendre for example\n",
    "\n",
    "pyplot.figure(figsize=(8,3))\n",
    "pyplot.grid(True)\n",
    "pyplot.xlabel(r'$\\xi$', fontsize=18)\n",
    "pyplot.ylabel(r'$P_p$', fontsize=18)\n",
    "pyplot.tick_params(axis='both', labelsize=12)\n",
    "pyplot.title('Jacobi polynomials up to order %d' % NOrders, fontsize=18)\n",
    "pyplot.plot(x,jac[0], 'r-', lw=2, label='$P_0$')\n",
    "pyplot.plot(x,jac[1], 'b-', lw=2, label='$P_1$')\n",
    "pyplot.plot(x,jac[2], 'g-', lw=2, label='$P_2$')\n",
    "pyplot.plot(x,jac[3], 'y-', lw=2, label='$P_3$')\n",
    "pyplot.plot(x,jac[4], 'm-', lw=2, label='$P_4$')"
   ]
  },
  {
   "cell_type": "markdown",
   "metadata": {},
   "source": [
    "## 1-D Modal Interpolation Functions"
   ]
  },
  {
   "cell_type": "markdown",
   "metadata": {},
   "source": [
    "Using Jacobi polynomials, 1-D **modal** interpolation functions for the finite element method can be defined either in the system $\\xi_1$ or in the system $L_1$ as:\n",
    "\n",
    "Local coordinate system $\\xi_1$\n",
    "\\begin{equation}\n",
    "N_p(\\xi_1)=\\phi_p(\\xi_1)=\\left\\{\n",
    "\\begin{array}{lll}\n",
    " \\frac{1}{2}(1-\\xi_1) & p=0 \\\\\n",
    " \\frac{1}{2}(1+\\xi_1) & p=P_1 \\\\\n",
    " \\frac{1}{4}(1-\\xi_1)(1+\\xi_1)P_{p-1}^{\\alpha_1, \\beta_1}(\\xi_1) & 0 < p\n",
    " < P_1\n",
    "\\end{array}\\right.\n",
    "\\end{equation}\n",
    "\n",
    "Local coordinate system $L_1$\n",
    "\\begin{equation}\n",
    "N_p(L_1)=\\phi_p(L_1)=\\left\\{\n",
    "\\begin{array}{lll}\n",
    " 1-L_1 & p=0 \\\\\n",
    " L_1 & p=P_1 \\\\\n",
    "(1-L_1)L_1P_{p-1}^{\\alpha_1, \\beta_1}(2L_1 - 1) & 0 < p\n",
    " < P_1\n",
    "\\end{array}\\right.\n",
    "\\end{equation}"
   ]
  },
  {
   "cell_type": "code",
   "execution_count": 4,
   "metadata": {
    "collapsed": false
   },
   "outputs": [
    {
     "data": {
      "text/plain": [
       "<matplotlib.text.Text at 0x2260c7baac8>"
      ]
     },
     "execution_count": 4,
     "metadata": {},
     "output_type": "execute_result"
    },
    {
     "data": {
      "image/png": "[encoded data removed]",
      "text/plain": [
       "<matplotlib.figure.Figure at 0x2260c584ba8>"
      ]
     },
     "metadata": {},
     "output_type": "display_data"
    }
   ],
   "source": [
    "def NpModal(xi, p, P1, alpha, beta):\n",
    "    \"\"\"Returns the pth interpolation function of a P1th-order modal interpolation at xi.\n",
    "    \n",
    "    Parameters\n",
    "    ----------\n",
    "    xi   : -1 <= xi <= 1, point of evaluation.\n",
    "    p    : index of the interpolation function 0 <= p <= P1\n",
    "    P1   : highest degree of the modal interpolation functions\n",
    "    alpha: weight of the Jacobi polynomials\n",
    "    beta : weight of the Jacobi polynomials\n",
    "        \n",
    "    Returns\n",
    "    -------\n",
    "    Np : pth interpolation function of a P1th-order modal interpolation at xi.\n",
    "    \"\"\"\n",
    "    if p == 0:\n",
    "        return 0.5*(1-xi)  # N_0\n",
    "    elif p == P1:\n",
    "        return 0.5*(1+xi)  # N_P1\n",
    "    elif p > 0 and p < P1:\n",
    "        return 0.25*(1-xi)*(1+xi)*JacobiP( xi, p-1, alpha, beta )\n",
    "    else:\n",
    "        return 0\n",
    "\n",
    "pOrder = 4           # highest degree of the modal interpolation functions\n",
    "NFuncs = pOrder + 1  # number of interpolation functions N_0 to N_pOrder\n",
    "\n",
    "# Data for visualization of polynomials\n",
    "nf  = numpy.array(range(0, NFuncs))               \n",
    "Npm = numpy.empty_like(nf, dtype=numpy.ndarray)\n",
    "\n",
    "for i in range(0, NFuncs):\n",
    "    Npm[ i ] = NpModal(x, i, pOrder, 0., 0.)\n",
    "\n",
    "pyplot.figure(figsize=(8,3))\n",
    "pyplot.grid(True)\n",
    "pyplot.xlabel(r'$\\xi$', fontsize=18)\n",
    "pyplot.ylabel(r'$N_p$', fontsize=18)\n",
    "pyplot.tick_params(axis='both', labelsize=12)\n",
    "pyplot.title('1-D modal interpolation functions $P=$ %d' % pOrder, fontsize=18)\n",
    "pyplot.plot(x,Npm[0], 'k-', lw=2, label='$\\phi_0$')\n",
    "pyplot.plot(x,Npm[1], 'b-', lw=2, label='$\\phi_1$')\n",
    "pyplot.plot(x,Npm[2], 'g-', lw=2, label='$\\phi_2$')\n",
    "pyplot.plot(x,Npm[3], 'y-', lw=2, label='$\\phi_3$')\n",
    "pyplot.plot(x,Npm[4], 'r-', lw=2, label='$\\phi_4$')\n",
    "pyplot.text(-0.9, 0.8, r'$\\phi_0$')\n",
    "pyplot.text(0.0, 0.3, r'$\\phi_1$')\n",
    "pyplot.text(0.02, 0.085, r'$\\phi_2$')\n",
    "pyplot.text(-0.45, 0.05, r'$\\phi_3$')\n",
    "pyplot.text(0.8, 0.8, r'$\\phi_4$')\n"
   ]
  },
  {
   "cell_type": "markdown",
   "metadata": {},
   "source": [
    "Can you observe the those basis functions lead to a continuous interpolation of the global domain? In addition, is it possible to combine element of different interpolation orders?\n",
    "\n",
    "The bar element mass and stiffness matrices for $P=6$ and $\\alpha_1=\\beta_1=1$ in the $\\xi_1$ coordinate system have the following patterns:\n",
    "<table style=\"width:50%; border-style:hidden\">\n",
    "  <tr>\n",
    "    <td style=\"border-style:hidden; text-align:center\">![Me_1D_jac_spy_P6](figs/Me_1D_jac_spy_P6.png) <br><b>Mass Matrix</b></td>\n",
    "    <td style=\"text-align:center\">![Ke_1D_jac_spy_P6](figs/Ke_1D_jac_spy_P6.png) <br><b>Stiffness Matrix</b></td>\t\t\n",
    "  </tr>\n",
    "</table>"
   ]
  },
  {
   "cell_type": "markdown",
   "metadata": {},
   "source": [
    "## Mapping"
   ]
  },
  {
   "cell_type": "markdown",
   "metadata": {},
   "source": [
    "The bar element mass and stiffness matrices are given in the global and local coordinate systems as:\n",
    "\\begin{equation}\n",
    "[M_e] = \\int_{x_{i-1}}^{x_i} [N_e]^T[N_e]Adx = \\int_{-1}^{1} [N_e]^T[N_e]A |J|d\\xi_1\n",
    "\\end{equation}\n",
    "\\begin{equation}\n",
    "[K_e] = \\int_{x_{i-1}}^{x_i} [B_e]^T[D][B_e]Adx = \\int_{-1}^{1} [B_e]^T[D][B_e]A |J|d\\xi_1\n",
    "\\end{equation}\n",
    "\n",
    "The Jacobian of the local-global mapping is given by\n",
    "\\begin{equation}\n",
    "[J] = \\frac{dx(\\xi_1)}{d\\xi_1}\n",
    "\\end{equation}\n",
    "\n",
    "The $x$ coordinate can be interpolated in an isoparametric way using the same shape functions for the unknown and global coordinates of the nodes as\n",
    "\\begin{equation}\n",
    "x(\\xi_1) = \\sum_{i=0}^n \\phi_i(\\xi_1)X_i\n",
    "\\end{equation}\n",
    "\n",
    "Based on that, the Jacobian is given by\n",
    "\\begin{eqnarray*}\n",
    "[J] &=& \\frac{dx(\\xi_1)}{d\\xi_1} = \\sum_{i=0}^n \\frac{d\\phi_i(\\xi_1)}{d\\xi_1} X_i \\\\\n",
    "&=& \\left[\\begin{array}{cccc} \\phi_{0,\\xi_1} & \\phi_{1,\\xi_1} & \\ldots & \\phi_{n,\\xi_1} \\end{array} \\right]\n",
    "\\left[\\begin{array}{c} X_0 \\\\ X_1 \\\\ \\vdots \\\\ X_n \\end{array} \\right]\n",
    "\\end{eqnarray*}\n",
    "\n",
    "The global derivatives in the bar strain matrix $[B]=[\\begin{array}{cc} \\phi_1'(x) & \\phi_2'(x)\\end{array}]$ are calculated applying the chain rule:\n",
    "\\begin{equation}\n",
    "\\phi_i(x)=\\phi_i(x(\\xi_1))\\;\\;\\rightarrow\\;\\;\n",
    "\\phi_{i,\\xi_1} = \\phi_{i,x}x,_{\\xi_1}\n",
    "\\end{equation}\n",
    "\\begin{equation}\n",
    "\\phi_{i,x} = [J]^{-1}\\phi_{i,\\xi_1}\n",
    "\\end{equation}"
   ]
  },
  {
   "cell_type": "markdown",
   "metadata": {},
   "source": [
    "## Numerical Integration"
   ]
  },
  {
   "cell_type": "markdown",
   "metadata": {},
   "source": [
    "The coefficients of the element matrices are generally computed by numerical integration.\n",
    "\n",
    "Let $u(\\xi_1)$ be a polynomial function of order $(2Q-k)$, that is, $u(\\xi_1)\\in P_{2Q-k}([-1,1])$. The integration of the product of $u(\\xi_1)$ by $(1-\\xi_1)^\\alpha(1+\\xi_1)^\\beta$ is\n",
    "\\begin{equation}\n",
    "I = \\int_{-1}^1 (1-\\xi_1)^\\alpha(1+\\xi_1)^\\beta u(\\xi_1)d\\xi_1\n",
    "\\end{equation}\n",
    "\n",
    "The function $u(\\xi_1)$ can be decomposed as\n",
    "\\begin{equation}\n",
    "u(\\xi_1) = \\sum_{i=0}^{Q-1} u(\\xi_{1,i})h_i(\\xi_1) + s(\\xi_1)r(\\xi_1)\n",
    "\\end{equation}\n",
    "assuming\n",
    "- $h_i(\\xi_j)=\\delta_{ij}$ denotes the Lagrange polynomials associated to the\n",
    "$Q$ nodal points $\\xi_{1,i}$.\n",
    "- $s(\\xi_{1})$ is a polynomial of $Q$ with roots on the nodes $\\xi_{i,1}$,\n",
    "ou seja, $s(\\xi_{1,i})=0$.\n",
    "- $r(\\xi_{1})$ is a polynomial expansion of the remainder with order $Q-k$.\n",
    "\n",
    "Therefore,\n",
    "\\begin{equation}\n",
    "I = \\sum_{i=0}^{Q-1} w_i^{\\alpha,\\beta}u(\\xi_{1,i})+R(u)\n",
    "\\end{equation}\n",
    "\\begin{equation}\n",
    "w_i^{\\alpha,\\beta} = \\int_{-1}^1 (1-\\xi_1)^\\alpha(1+\\xi_1)^\\beta h_i(\\xi_1)d\\xi_1\n",
    "\\end{equation}\n",
    "\\begin{equation}\n",
    "R(u) = \\int_{-1}^1 (1-\\xi_1)^\\alpha(1+\\xi_1)^\\beta s(\\xi_{1})r(\\xi_{1})d\\xi_1\n",
    "\\end{equation}\n",
    "\n",
    "We are looking for a function $s(\\xi_1)$ such as the remainder $R(u)$ is null, implying an exact integration.\n",
    "\n",
    "For $s(\\xi_1) = P_{Q}^{\\alpha, \\beta}(\\xi_1)$ and $k=1$\n",
    "\\begin{equation}\n",
    "R(u) = \\int_{-1}^1 (1-\\xi_1)^\\alpha (1+\\xi_1)^\\beta P_{Q}^{\\alpha, \\beta}(\\xi_1)r(\\xi_1)d\\xi_1 = 0\n",
    "\\end{equation}\n",
    "because $r(\\xi_1)$ has order $Q-1$ and $s(\\xi_1)$ has order $Q$.\n",
    "\n",
    "That choice defines the **Gauss-Jacobi quadrature**. $\\xi_{1,i}$ are the roots of $P_{Q}^{\\alpha, \\beta}(\\xi_1)$ determined by a Newton-Raphson procedure. In some cases, it is useful to use $\\xi_1=\\pm 1$ as nodal points which defines the **Gauss-Radau** and **Gauss-Lobatto quadratures**.\n",
    "\n",
    "The Gauss, Gauss-Radau and Gauss-Lobatto quadratures exactly integrate the polinomial functions of $2Q-1$, $2Q-2$ e $2Q-3$, respectively.\n",
    "![distrib_pontos](figs/distrib_pontos.png)\n",
    "\n",
    "Number of points required to exactly integrate a function of order $P$:\n",
    "- Gauss-Legendre (GL): $2Q-1=P\\rightarrow Q=\\frac12 (P+1)$\n",
    "- Gauss-Radau (GR): $2Q-2=P\\rightarrow Q=\\frac12 (P+2)$\n",
    "- Gauss-Lobatto-Legendre (GLL): $2Q-3=P\\rightarrow Q=\\frac12 (P+3)$"
   ]
  },
  {
   "cell_type": "markdown",
   "metadata": {},
   "source": [
    "## Numerical Integration Example"
   ]
  },
  {
   "cell_type": "markdown",
   "metadata": {},
   "source": [
    "\\begin{equation}\n",
    "f(\\xi_1) = 1-\\xi_1^2 = (1-\\xi_1)(1+\\xi_1), \\;\\;\\xi_1\\in[-1,1]\n",
    "\\end{equation}\n",
    "\\begin{equation}\n",
    "I=\\int_{-1}^{1}f(\\xi_1)d\\xi_1=\\frac 43\n",
    "\\end{equation}\n",
    "\n",
    "<table border=\"0\" style=\"width:30%\">\n",
    "  <col align=\"left\">\n",
    "  <col align=\"right\">\n",
    "  <col align=\"right\">\n",
    "  <tr> <td>Quadratura </td> <td style=\"text-align:right; width:30px\">Coordinates </td> <td style=\"text-align:right; width:30px\">Weights </td> </tr>\n",
    "  <tr> <td>GL$(\\alpha=\\beta=0)$ </td> <td style=\"text-align:right\">-0,5774<br>0,5774</td> <td style=\"text-align:right\">1<br>1</td></tr>\n",
    "  <tr> <td>GLL($\\alpha=\\beta=0)$ </td><td style=\"text-align:right\">-1,0000<br>0,0000<br>1,0000</td> <td style=\"text-align:right\">1/3<br>4/3<br>1/3</td></tr>\n",
    "  <tr> <td>GR$(\\alpha=\\beta=0)$ </td><td style=\"text-align:right\">-1,0000<br>0,3333</td> <td style=\"text-align:right\">1/2<br>3/2</td></tr>\n",
    "  <tr> <td>GJ$(\\alpha=1,\\beta=1)$</td><td style=\"text-align:right\">0,0000</td> <td style=\"text-align:right\">4/3</td> </tr>\n",
    "</table>\n",
    "\n",
    "The Gauss-Legendre and Gauss-Lobatto-Legendre quadratures are implemented by the Python code below."
   ]
  },
  {
   "cell_type": "code",
   "execution_count": 5,
   "metadata": {
    "collapsed": false
   },
   "outputs": [
    {
     "name": "stdout",
     "output_type": "stream",
     "text": [
      "Gauss-Legendre (GL)\n",
      "Coordinates |   Weights\n",
      "  -0.57735  |   1.00000\n",
      "   0.57735  |   1.00000\n",
      "Integral (GL)  =    1.33333\n",
      "\n",
      "Gauss-Legendre-Lobatto (GLL)\n",
      "Coordinates |   Weights\n",
      "  -1.00000  |   0.33333\n",
      "   0.00000  |   1.33333\n",
      "   1.00000  |   0.33333\n",
      "Integral (GLL) =    1.33333\n"
     ]
    }
   ],
   "source": [
    "#First derivative of Jacobi polynomials\n",
    "def DJacobiP(r,m,alpha,beta):\n",
    "# DPm, DPn1 -- Derivative of the mth-order Jacobi polynomial at point r\n",
    "# Pn0, Pn1, Pn2 -- Jacobi polynomials of order n-1, n and n+1\n",
    "# a1n, a2n, a3n, a4n -- recursive coefficients to compute Jacobi polynomials\n",
    "# b1n, b2n, b3n -- recursive coefficients to compute first derivatives of Jacobi polynomials\n",
    "\n",
    "    # Derivative of the Jacobi polynomial of order m evaluated at point r\n",
    "    DPm = 0.\n",
    "    Pn0 = 1.\n",
    "    Pn1 = 0.5*(alpha - beta + (alpha + beta + 2) * r)\n",
    "    Pn2 = 0.\n",
    "    \n",
    "    for n in range(1,m+1):\n",
    "        a1n = 2.*(n+1)*(n + alpha + beta +1)*(2.*n + alpha + beta)\n",
    "        a2n = (2.*n + alpha + beta + 1)*(alpha**2 - beta**2)\n",
    "        a3n = (2.*n + alpha + beta)*(2.*n + alpha + beta + 1)*(2.*n + alpha + beta + 2)\n",
    "        a4n = 2.*(n + alpha)*(n + beta)*(2.*n + alpha + beta + 2)\n",
    "   \n",
    "        Pn2 = (1./a1n)*((a2n + a3n * r)*Pn1 - a4n*Pn0)\n",
    "        \n",
    "        if r == -1.:\n",
    "            DPn1 = (-1.0)**(m-1)*0.5*(alpha+beta+m+1)*math.factorial(m+beta)/(math.factorial(beta+1.)*math.factorial(m-1))\n",
    "        elif r == 1.:\n",
    "            DPn1 = 0.5*(alpha+beta+m+1.)*math.factorial(m+alpha)/(math.factorial(alpha+1)*math.factorial(m-1))\n",
    "        else:\n",
    "            b1n = (2.*n + alpha + beta)*(1 - r**2)\n",
    "            b2n = (n)*(alpha - beta - (2.*n + alpha + beta) * r)\n",
    "            b3n = 2.*(n + alpha)*(n + beta)\n",
    "\n",
    "            DPn1 = (1./b1n)*(b2n*Pn1 + b3n*Pn0)\n",
    "           \n",
    "        Pn0 = Pn1\n",
    "        Pn1 = Pn2\n",
    "\n",
    "        DPm = DPn1\n",
    "        \n",
    "    return DPm\n",
    "\n",
    "#Newton-Raphson algorithm with polynomial deflation to compute polynomial roots\n",
    "def JacobiRoots(alpha,beta,m):\n",
    "    \n",
    "    #Allocates vector for quadrature points\n",
    "    x = numpy.zeros(m)\n",
    "    #Stop criterium for Newton-Raphson algorithm\n",
    "    epsilon = 1.e-16\n",
    "   \n",
    "    #Newton-Raphson algorithm with polynomial deflation\n",
    "    for k in range(0,m):\n",
    "        #Initial guess: roots of the mth-order Chebyshev polynomial\n",
    "        r = -numpy.cos(numpy.pi * (2.*k + 1)/(2.*m))\n",
    "        if k > 0:\n",
    "            r = (r + x[k-1])/2.\n",
    "            \n",
    "        delta = 1.\n",
    "        while abs(delta) > epsilon:\n",
    "            s = 0.\n",
    "            for i in range(0,k):\n",
    "                s = s + 1./(r - x[i])\n",
    "                \n",
    "            Pm = JacobiP(r,m,alpha,beta)\n",
    "            DPm = DJacobiP(r,m,alpha,beta)\n",
    "            delta = -Pm/(DPm - Pm * s)\n",
    "            r = r + delta\n",
    "            \n",
    "        x[k] = r\n",
    "        \n",
    "    return x\n",
    "\n",
    "#Quadrature weights\n",
    "def JacobiGaussWeights(x,alpha,beta,m):\n",
    "    \n",
    "    #Allocates vector for quadrature weights\n",
    "    w = numpy.zeros(m)\n",
    "    \n",
    "    if quad_pts == 'GL':\n",
    "        #case'GL'\n",
    "        c = 2.**(alpha + beta + 1)\n",
    "\n",
    "        g1 = alpha + m + 1\n",
    "        g2 = beta + m + 1\n",
    "        g3 = alpha + beta + m + 1\n",
    "\n",
    "        #Computes factorials g1, g2, g3 e M (WARNING: For n integer Gamma[n] = (n-1)!)\n",
    "        gama1 = math.factorial(g1-1)\n",
    "        gama2 = math.factorial(g2-1)\n",
    "        gama3 = math.factorial(g3-1)\n",
    "        M = math.factorial(m)\n",
    "\n",
    "        #Computes quadrature weights\n",
    "        C1 = c*gama1*gama2\n",
    "        for i in range (0,m):\n",
    "            r = x[i]\n",
    "            DPm = DJacobiP(r,m,alpha,beta)\n",
    "            C2 = M*gama3*(1-r**2)\n",
    "            w[i] = (C1/C2)*(DPm**(-2))\n",
    "\n",
    "    elif quad_pts == 'GLL':\n",
    "        #case 'GLL'\n",
    "        c = 2.**(alpha + beta + 1)\n",
    "\n",
    "        g1 = alpha + m\n",
    "        g2 = beta + m\n",
    "        g3 = alpha + beta + m + 1\n",
    "\n",
    "        #Computes factorials g1, g2, g3 e M (WARNING: For n integer Gamma[n] = (n-1)!)\n",
    "        gama1 = math.factorial(g1-1)\n",
    "        gama2 = math.factorial(g2-1)\n",
    "        gama3 = math.factorial(g3-1)\n",
    "        M = math.factorial(m-1)\n",
    "\n",
    "        #Computes quadrature weights\n",
    "        C1 = c*gama1*gama2\n",
    "        C2 = (m - 1.)*M*gama3\n",
    "        C3 = beta + 1.\n",
    "        C4 = alpha + 1.\n",
    "\n",
    "        r = x[0]\n",
    "        Pm = JacobiP(r,m-1,alpha,beta)\n",
    "        w[0] = C3*(C1/C2)*(Pm**(-2))\n",
    "\n",
    "        r = x[m-1]\n",
    "        Pm = JacobiP(r,m-1,alpha,beta)\n",
    "        w[m-1] = C4*(C1/C2)*(Pm**(-2))\n",
    "\n",
    "        for i in range (1,(m-1)):\n",
    "            r = x[i]\n",
    "            Pm = JacobiP(r,m-1,alpha,beta)\n",
    "            w[i] = (C1/C2)*(Pm**(-2))\n",
    "            \n",
    "    else:\n",
    "        print('Invalid integration type!')\n",
    "        \n",
    "    return w\n",
    "\n",
    "#Quadrature points and weights\n",
    "def JacobiGaussQuad(N):\n",
    "    \n",
    "    #Gets number of quadrature points based on the order of the polynomial approximation\n",
    "    if quad_pts == 'GL':\n",
    "        n_GL = (N+1.)/2.\n",
    "        n = math.ceil(n_GL)\n",
    "        \n",
    "    elif quad_pts == 'GLL': \n",
    "        n_GLL = (N+3.)/2.\n",
    "        n = math.ceil(n_GLL) #math.floor(n_GLL) keeps the nodal spectral approach n = N+1\n",
    "        \n",
    "    else:\n",
    "        print('Invalid integration type!')\n",
    "        \n",
    "    n=int(n) #JacobiRoots and JacobiGaussWeights dont accept n as float!\n",
    "    \n",
    "    #Sets parameters to obtain quadrature points from Legendre polynomials\n",
    "    #Legendre == Jacobi(alpha,beta) with alpha == 0 and beta == 0\n",
    "    alpha = 0\n",
    "    beta = 0\n",
    "    \n",
    "    #Sobroutines that evaluates the quadrature points and weights using modified \n",
    "    #Newton-Raphson algorithm with polynomial deflation\n",
    "    if quad_pts == 'GL':\n",
    "        xi = JacobiRoots(alpha,beta,n)\n",
    "        wi = JacobiGaussWeights(xi,alpha,beta,n)\n",
    "        \n",
    "    elif quad_pts == 'GLL':\n",
    "        #Allocating vector for quadrature points\n",
    "        xi = numpy.zeros(n)\n",
    "        x = JacobiRoots(alpha+1,beta+1,n-2)\n",
    "        xi[1:-1] = x.copy()\n",
    "        xi[0] = -1.0\n",
    "        xi[n-1] = 1.0\n",
    "        wi = JacobiGaussWeights(xi,alpha,beta,n)\n",
    "        \n",
    "    else:\n",
    "        print('Invalid integration type!')\n",
    "    \n",
    "    return xi, wi\n",
    "\n",
    "# Quadrature points and weights\n",
    "N = 2 # polynomial order\n",
    "\n",
    "quad_pts = 'GL' # Gauss-Legendre\n",
    "(xi,wi) = JacobiGaussQuad(N)\n",
    "nip = len(xi)\n",
    "\n",
    "print('Gauss-Legendre (GL)')\n",
    "print('Coordinates |   Weights')\n",
    "for i in range(0,nip):\n",
    "    print('{:10.5f}  |{:10.5f}'.format(xi[i], wi[i]))\n",
    "    \n",
    "# Function to be integrated\n",
    "fi = 1-xi**2\n",
    "# Numerical integration\n",
    "I  = numpy.dot(wi, fi)\n",
    "print('Integral (GL)  = {:10.5f}'.format( I ))\n",
    "\n",
    "quad_pts = 'GLL' # Gauss-Legendre-Lobatto\n",
    "(xi,wi) = JacobiGaussQuad(N)\n",
    "nip = len(xi)\n",
    "\n",
    "print('')\n",
    "print('Gauss-Legendre-Lobatto (GLL)')\n",
    "print('Coordinates |   Weights')\n",
    "for i in range(0,nip):\n",
    "    print('{:10.5f}  |{:10.5f}'.format(xi[i], wi[i]))\n",
    "\n",
    "# Function to be integrated\n",
    "fi = 1-xi**2\n",
    "# Numerical integration\n",
    "I  = numpy.dot(wi, fi)\n",
    "print('Integral (GLL) = {:10.5f}'.format( I ))"
   ]
  },
  {
   "cell_type": "markdown",
   "metadata": {},
   "source": [
    "## Assignment"
   ]
  },
  {
   "cell_type": "markdown",
   "metadata": {},
   "source": [
    "1. Implement a Python code using the 1-D modal interpolation functions and numeric quadrature to compute the local stiffness matrix of a bar element in the local coordinate system $\\xi_1$.\n",
    "2. Extend the code implemented in the previous item to compute the same stiffness matrix but in the global coordinate system. Hint: you need to choose a local-to-global mapping.\n",
    "3. Extend the code presented in the previous class to solve a bar subjected to the same constant load $q(x)=q_0$ and the same boundary conditions using the 1-D modal interpolation.\n",
    "4. Increase the polynomial order and check the convergence error.\n",
    "5. Solve the bar problem again, now considering $q(x)=q_0\\sin(\\pi x/2)$. Plot the approximate error for the $h$ and $p$-refinements in terms of the number of degrees of freedom in logarithmic scale. Calculate the rates of convergence."
   ]
  },
  {
   "cell_type": "markdown",
   "metadata": {},
   "source": [
    "## References"
   ]
  },
  {
   "cell_type": "markdown",
   "metadata": {},
   "source": [
    "- G. E. Karniadakis, S. J. Sherwin. *Spectral/hp Element Methods for CFD*. Oxford University\n",
    "Press, Oxford, 2nd edition, 2005.\n",
    "- M.L. Bittencourt. *Fully tensorial nodal and modal shape functions for triangles and tetrahedra*. IJNME, 63(2):1530-1558, 2005.\n",
    "- M.L. Bittencourt, M. G. Vazquez, T. G. Vazquez. *Construction of shape functions for the h- and p- versions of the fem using tensorial product*. IJNME, 71(5):529-563, 2007.\n",
    "- S. Dong, Z. Yosibash. *A parallel spectral element method for dynamic three-dimensional nonlinear\n",
    "elasticity problems*. Computer & Structures, (4):61-85, 2008.\n",
    "- M.L. Bittencourt, T. G. Vazquez. *Tensor-based gauss-jacobi numerical integration for high-order\n",
    "mass and stiffness matrices.* IJNME, 79(5):599-638,2009.\n",
    "- M.L. Bittencourt, *Computational Solid Mechanics: Variational Formulation and High Order Approximation*, CRC Press, 2014."
   ]
  },
  {
   "cell_type": "code",
   "execution_count": 6,
   "metadata": {
    "collapsed": false
   },
   "outputs": [],
   "source": []
  }
 ],
 "metadata": {
  "kernelspec": {
   "display_name": "Python 3",
   "language": "python",
   "name": "python3"
  },
  "language_info": {
   "codemirror_mode": {
    "name": "ipython",
    "version": 3
   },
   "file_extension": ".py",
   "mimetype": "text/x-python",
   "name": "python",
   "nbconvert_exporter": "python",
   "pygments_lexer": "ipython3",
   "version": "3.5.1"
  }
 },
 "nbformat": 4,
 "nbformat_minor": 0
}
