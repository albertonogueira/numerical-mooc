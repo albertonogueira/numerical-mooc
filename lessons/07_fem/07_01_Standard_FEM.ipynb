{
 "cells": [
  {
   "cell_type": "markdown",
   "metadata": {},
   "source": [
    "# Introduction to the Finite Element Method (FEM)"
   ]
  },
  {
   "cell_type": "markdown",
   "metadata": {},
   "source": [
    "#### *Marco Lúcio Bittencourt* (mlb@fem.unicamp.br) and *Cláudio Alessandro de Carvalho Silva* (cacs@thorus-scisoft.com.br)"
   ]
  },
  {
   "cell_type": "markdown",
   "metadata": {},
   "source": [
    "In the previous classes, we looked into the Finite Difference Method (FDM) and the Finite Volume Method (FVM). Now, we will introduce a numerical method called the Finite Element Method (FEM).\n",
    "\n",
    "In our discusssion about the Finite Element Method, we will deal with the 1-D steady state diffusion equation, present in several engineering applications. In Heat Transfer, it describes steady state conduction. In Structural Engineering, that is the equation of deformation of axially loaded bars."
   ]
  },
  {
   "cell_type": "markdown",
   "metadata": {},
   "source": [
    "## The Finite Element Method (FEM)"
   ]
  },
  {
   "cell_type": "markdown",
   "metadata": {},
   "source": [
    "- The FEM is a numerical procedure for the determination of approximate solution for Boundary Value Problems (BVP).\n",
    "- The **strong form** of a BVP corresponds to the differential equation plus the boundary conditions of the problem at hand.\n",
    "- A solution of the strong form is also a solution of the integral form of the BVP or **weak form**.\n",
    "- In a **weak formulation**, an equation is no longer required to hold absolutely and has instead *weak solutions*. Integrating the weak form by parts (applying the divergence theorem by Gauss or Green’s formula) provides the numerical benefit of reduced differentiation order.\n",
    "- Using FEM  we are able to obtain an approximate solution of the **weak form** associated to the BVP.\n",
    "- The approximate solution consists of a linear combination of interpolation polynomial functions.\n",
    "- There are different versions of FEM according to the type of interpolation functions used.\n"
   ]
  },
  {
   "cell_type": "markdown",
   "metadata": {},
   "source": [
    "<figure>\n",
    "<img src=\"figs/refin-modif.png\" alt=\"FEM versions\" width=\"497\" height=\"407\">\n",
    "</figure>\n",
    "#### *h* and *p* refinements."
   ]
  },
  {
   "cell_type": "markdown",
   "metadata": {},
   "source": [
    "## Equations for Axially Loaded Bars: Strong Formulation"
   ]
  },
  {
   "cell_type": "markdown",
   "metadata": {},
   "source": [
    "<figure>\n",
    "<img src=\"figs/barra_esforcos.png\" alt=\"Bar loads\" width=\"720\" height=\"227\">\n",
    "</figure>\n",
    "#### Axially loaded bar."
   ]
  },
  {
   "cell_type": "markdown",
   "metadata": {},
   "source": [
    "The static equilibrium principle leads to a BVP in terms of the normal force:\n",
    "\\begin{equation}\n",
    "\\left\\{ \\begin{array}{l}\n",
    "\\frac{dN_x(x)}{dx} = -q_x(x)\\\\\n",
    "N_x(x=0)=-P_0\\\\\n",
    "N_x(x=L)=P_L\n",
    "\\end{array}\\right.\n",
    "\\end{equation}\n",
    "\n",
    "The classic cinematic assumption for axially loaded bars composed by linear material and subjected to small displacements and strains (plane sections remain plane after loading) leads to the differential equation in terms of displacements for $x\\in(0,L)$\n",
    "\\begin{equation}\n",
    "\\frac{d}{dx}\\underbrace{\\left(E(x)A(x)\\frac{du_x(x)}{dx}\\right)}_{N_x(x)} = -q_x(x)\\;\\;\\;\\;\n",
    "%\\frac{dN_x(x)}{dx} = -q_x(x)\n",
    "EA\\frac{du_x^2(x)}{dx^2}=-q_x(x)\n",
    "\\end{equation}\n",
    "with kinematic and natural boundary conditions respectively in terms of $u_x(x)$ and $N_x(x)$. For the bar illustrated below we have\n",
    "\\begin{equation}\n",
    "u_x(x=0) = 0 \\;\\;\\;\\;\\mbox{ and }\\;\\;\\;\\; N_x(x=L)=P\n",
    "\\end{equation}"
   ]
  },
  {
   "cell_type": "markdown",
   "metadata": {},
   "source": [
    "<table style=\"width:80%; border-style:hidden\">\n",
    "  <tr>\n",
    "    <td style=\"border-style:hidden; text-align:center\">![barra_modelo](figs/barra_modelo.png) <br><b>Cinematic and natural boundary conditions.</b> </td>\t\n",
    "  </tr>\n",
    "</table>"
   ]
  },
  {
   "cell_type": "markdown",
   "metadata": {},
   "source": [
    "## Example: Solving the Strong Formulation"
   ]
  },
  {
   "cell_type": "markdown",
   "metadata": {},
   "source": [
    "\n",
    "Consider a bar subjected to a distributed constant axial load $q_x(x)=q_0$ and the boundary conditions shown in the following figure."
   ]
  },
  {
   "cell_type": "markdown",
   "metadata": {},
   "source": [
    "### ![barra_exemplo](figs/barra_exemplo.png)"
   ]
  },
  {
   "cell_type": "markdown",
   "metadata": {},
   "source": [
    "A function $u_x(x)$ is called **strong solution** if it is defined for any $0\\leq x \\leq L$, has continuous derivatives up to second order (thus, $u_x(x)\\in C^2[0,L]$) and is a solution of the BVP:\n",
    "\n",
    "- Differential equation\n",
    "    \\begin{equation}\n",
    "    EAu_x''(x)=-q_0\n",
    "    \\end{equation}\n",
    "- Boundary conditions: $u_x(x=0)=0$ and $N_x(x=L)=P$.\n",
    "\n",
    "#### Integrating the differential equation:\n",
    "1. First integration: normal force\n",
    "    \\begin{equation}\n",
    "     N_x(x) = EAu_x'(x)=-q_0x+C_1\n",
    "    \\end{equation}\n",
    "2. Second integration: axial displacement\n",
    "    \\begin{equation}\n",
    "    EAu_x(x) = -\\frac{q_0}{2}x^2+C_1x+C_2\n",
    "    \\end{equation}\n",
    "3. Computing constants $C_1$ and $C_2$\n",
    "    \\begin{equation}\n",
    "     N_x(x=L) = -(q_0)(L)+C_1=P\\;\\rightarrow\\;C_1=P+q_oL\n",
    "    \\end{equation}\n",
    "    \\begin{equation}\n",
    "    u_x(x=0) = \\frac{1}{EA}\\left[-\\frac{q_0}{2}    (0)^2+C_1(0)+C_2\\right]=0\\;\\rightarrow\\;C_2=0\n",
    "    \\end{equation}\n",
    "\n",
    "#### Final solution\n",
    "- Normal force\n",
    "    \\begin{equation}\n",
    "    N_x(x) = -q_0(x-L)+P\n",
    "    \\end{equation}\n",
    "- Axial displacement\n",
    "    \\begin{equation}\n",
    "    u_x(x) = \\frac{1}{EA}\\left(-\\frac{q_0}{2}x^2+(P+q_oL)x\\right)\n",
    "    \\end{equation}\n",
    "- Support reaction\n",
    "    \\begin{equation}\n",
    "    R=-N_x(x=0)=-(P+q_oL)\n",
    "    \\end{equation}\n"
   ]
  },
  {
   "cell_type": "markdown",
   "metadata": {},
   "source": [
    "<figure>\n",
    "<img src=\"figs/barra_exemplo_reacao.png\" alt=\"Bar loads\" width=\"720\" height=\"227\">\n",
    "</figure>"
   ]
  },
  {
   "cell_type": "markdown",
   "metadata": {},
   "source": [
    "Let´s assume some numerical values and plot the solution:"
   ]
  },
  {
   "cell_type": "code",
   "execution_count": 2,
   "metadata": {
    "collapsed": false
   },
   "outputs": [],
   "source": [
    "import numpy                       \n",
    "from matplotlib import pyplot                 \n",
    "%matplotlib inline\n",
    "from matplotlib import rcParams\n",
    "rcParams['font.family'] = 'serif'\n",
    "rcParams['font.size'] = 16"
   ]
  },
  {
   "cell_type": "code",
   "execution_count": 3,
   "metadata": {
    "collapsed": false
   },
   "outputs": [],
   "source": [
    "L = 1    # length L=1m\n",
    "q0=100   # Distributed load q0=100 N/m\n",
    "P=200    # Normal force at the end of the bar.\n",
    "nx=51    # \n",
    "x=numpy.linspace(0,L,nx)\n",
    "N=-q0*(x-L)+P                 # Internal distribution of normal force\n",
    "EAu=-(q0/2)*x**2+(P+q0*L)*x   # Displacement times EA"
   ]
  },
  {
   "cell_type": "code",
   "execution_count": 4,
   "metadata": {
    "collapsed": false
   },
   "outputs": [
    {
     "data": {
      "image/png": "[encoded data removed]",
      "text/plain": [
       "<matplotlib.figure.Figure at 0x7538438>"
      ]
     },
     "metadata": {},
     "output_type": "display_data"
    }
   ],
   "source": [
    "pyplot.figure(figsize=(12,3))\n",
    "pyplot.subplot(121)\n",
    "pyplot.grid(True)\n",
    "pyplot.xlabel(r'$x$', fontsize=18)\n",
    "pyplot.ylabel(r'$N(x)$', fontsize=18)\n",
    "pyplot.title('Normal Force Diagram', fontsize=18)\n",
    "pyplot.plot(x,N, 'b-', lw=2);\n",
    "\n",
    "pyplot.subplot(122)\n",
    "pyplot.grid(True)\n",
    "pyplot.xlabel(r'$x$', fontsize=18)\n",
    "pyplot.ylabel(r'$EAu(x)$', fontsize=18)\n",
    "pyplot.title('Displacement', fontsize=18)\n",
    "pyplot.plot(x,EAu, 'r-', lw=2);"
   ]
  },
  {
   "cell_type": "markdown",
   "metadata": {},
   "source": [
    "## Equations for Axially Loaded Bars: Weak Formulation"
   ]
  },
  {
   "cell_type": "markdown",
   "metadata": {},
   "source": [
    "Multiplying the diferential equation in terms of displacements by a test function $v_x(x)$ and integrating over the length of the bar, we obtain the statement\n",
    "\\begin{equation}\n",
    "\\int_0^L \\frac{d}{dx}\\left(E(x)A(x)\\frac{du_x(x)}{dx}\\right)v_x(x)dx = -\\int_0^L q_x(x) v_x(x) dx\n",
    "\\end{equation}\n",
    "\n",
    "Integrating the previous expression by parts, we have\n",
    "\\begin{equation}\n",
    "-\\int_0^L E(x)A(x)u_x'v_x'dx + \\left.\\underbrace{E(x)A(x)u_x'(x)}_{N_x(x)}v_x(x)\\right|_0^L =\n",
    "-\\int_0^L q_x(x)v_x(x) dx\n",
    "\\end{equation}\n",
    "\n",
    "and rearranging the terms\n",
    "\\begin{equation}\n",
    "\\int_0^L E(x)A(x)u_x'(x)v_x'(x)dx = \\int_0^L q_x(x)v_x(x) dx + N_x(L)v_x(L) - N_x(0)v_x(0)\n",
    "\\end{equation}\n"
   ]
  },
  {
   "cell_type": "markdown",
   "metadata": {},
   "source": [
    "Using the boundary conditions in terms of normal forces, we obtain\n",
    "\\begin{equation}\n",
    "\\int_0^L E(x)A(x)u_x'(x)v_x'(x)dx = \\int_0^L q_x(x)v_x(x) dx + P_Lv_x(L) + P_0v_x(0)\n",
    "\\end{equation}\n",
    "\n",
    "The expression above is a equilibrium integral equation involving only first order derivatives of $u_x(x)$ and $v_x(x)$. The ogirinal operator was thus \"weakened\" and then that expression is called **weak form** of the original BVP.\n",
    "\n",
    "The test function $v_x(x)$ must satisfy the corresponding homogeneous boundary conditions. In the preceeding example: $v_x(0)=0$.\n",
    "\n",
    "In FEM, the approximation $u_n$ of $u_x$ is obtained through a linear combination of global polynomial interpolation functions $\\{\\phi_j(x)\\}_{j=1}^n$\n",
    "\\begin{equation}\n",
    "u_x(x) \\approx u_{n}(x) = \\sum_{j=1}^n a_j\\phi_j(x)\\rightarrow\n",
    "u_{n}'(x) = \\sum_{j=1}^n a_j\\phi_j'(x)\n",
    "\\end{equation}\n",
    "where $a_j\\;(j=1,\\ldots,n)$ are the coefficients to be determined.\n",
    "\n",
    "The same interpolation functions are used for $v_x(x)$ in the Galerkin method. Therefore,\n",
    "\\begin{equation}\n",
    "v_x(x) \\approx v_{n}(x) = \\sum_{i=1}^n b_i\\phi_i(x)\\rightarrow\n",
    "v_{n}'(x) = \\sum_{i=1}^n b_i\\phi_i'(x)\n",
    "\\end{equation}\n",
    "\n",
    "Substituting both approximations in the weak form, we have\n",
    "\\begin{equation}\n",
    "\\sum_{i,j=1}^n \\left[ \\left( \\int_0^L E(x)A(x)\\phi_i'(x)\\phi_j'(x) dx\\right)a_j\n",
    "- \\int_0^L q_x\\phi_i(x) dx - P_L\\phi_i(L) - P_0\\phi_i(0) \\right] b_i = 0\n",
    "\\end{equation}\n",
    "\n",
    "Note that the $b_i$ are arbitrary coefficients and then the term inside brackets in the previous expression must be null for all $i=1,\\ldots,n$. In other words,\n",
    "\\begin{equation}\n",
    "\\sum_{j=1}^n\\left( \\underbrace{\\int_0^L E(x)A(x)\\phi_i'(x)\\phi_j'(x)dx}_{K_{ij}}\\right)a_j =\n",
    "\\underbrace{\\int_0^L q_x(x)\\phi_i(x) dx + P_L\\phi_i(L) + P_0\\phi_i(0)}_{f_i}\n",
    "\\end{equation}\n",
    "which constitutes a system of linear equations for $i,j=1,\\ldots,n$\n",
    "\\begin{equation}\n",
    "K_{ij}a_j=f_i\n",
    "\\end{equation}\n",
    "In matricial form\n",
    "\\begin{equation}\n",
    "[K]\\{a\\}=\\{f\\}\n",
    "\\end{equation}\n",
    "\n",
    "In the present context of Structural Engineering, $[K]$ is the *stiffness matrix*; $\\{a\\}$ is the *vector of approximation coefficients* and $\\{f\\}$ is the *vector of equivalent forces*.\n",
    "\n",
    "It is easily observed that the formulation is fundamentally associated to the selection of the interpolation functions $\\{\\phi_j(x)\\}_{j=1}^n$."
   ]
  },
  {
   "cell_type": "markdown",
   "metadata": {},
   "source": [
    "## An Approximation of the Weak Formulation"
   ]
  },
  {
   "cell_type": "markdown",
   "metadata": {},
   "source": [
    "For $n=2$ we have two interpolation functions and the axial displacement approximation is\n",
    "\\begin{equation}\n",
    "u_n(x) = a_1\\phi_1(x)+a_2\\phi_2(x) = [\\begin{array}{cc} \\phi_1(x) & \\phi_2(x)]\n",
    "\\end{array} \\left\\{ \\begin{array}{c} a_1 \\\\ a_2 \\end{array} \\right\\} = [N]\\{a\\}\n",
    "\\end{equation}\n",
    "where $[N]=[\\phi_1(x)\\;\\; \\phi_2(x)]$ is the matrix of interpolation funcions.\n",
    "\n",
    "We use the following linear interpolation functions (also called basis functions) and their derivatives:\n",
    "\\begin{equation}\n",
    "\\phi_1(x) = 1-\\frac{x}{L} \\;\\;\\rightarrow \\;\\; \\phi_1'(x) = -\\frac{1}{L} \\;\\;\\;\\;\\mbox{and}\\;\\;\\;\\;\n",
    "\\phi_2(x) = \\frac{x}{L} \\;\\; \\rightarrow \\;\\;  \\phi_2'(x) = \\frac{1}{L}\n",
    "\\end{equation}\n",
    "\n",
    "Using some Python code we can plot those functions:"
   ]
  },
  {
   "cell_type": "code",
   "execution_count": 5,
   "metadata": {
    "collapsed": false
   },
   "outputs": [
    {
     "data": {
      "image/png": "[encoded data removed]",
      "text/plain": [
       "<matplotlib.figure.Figure at 0x7934780>"
      ]
     },
     "metadata": {},
     "output_type": "display_data"
    }
   ],
   "source": [
    "phi1=1-x/L\n",
    "dphi1=numpy.ones(nx) \n",
    "dphi1[0 : ]=-1/L\n",
    "phi2=x/L\n",
    "dphi2=numpy.ones(nx)\n",
    "dphi2[0 : ]=1/L\n",
    "#\n",
    "pyplot.figure(figsize=(12,3))\n",
    "#\n",
    "pyplot.subplot(121)\n",
    "pyplot.grid(True)\n",
    "pyplot.xlabel(r'$x$', fontsize=18)\n",
    "pyplot.ylabel(r'$\\phi_i(x)$', fontsize=18)\n",
    "pyplot.tick_params(axis='both', labelsize=12)\n",
    "pyplot.plot(x,phi1, 'r-', lw=2, label='$\\phi_1(x)$')\n",
    "pyplot.plot(x,phi2, 'b-', lw=2, label='$\\phi_2(x)$')\n",
    "pyplot.text(0.2, 0.85, r'$\\phi_1(x)$')\n",
    "pyplot.text(0.7, 0.85, r'$\\phi_2(x)$');\n",
    "#\n",
    "pyplot.subplot(122)\n",
    "pyplot.grid(True)\n",
    "pyplot.xlabel(r'$x$', fontsize=16)\n",
    "pyplot.ylabel(r'$d\\phi_i(x)$', fontsize=16)\n",
    "pyplot.plot(x,dphi1, 'r-', lw=2)\n",
    "pyplot.plot(x,dphi2, 'b-', lw=2)\n",
    "pyplot.tick_params(axis='both', labelsize=12)\n",
    "pyplot.ylim(-1.2,1.2)\n",
    "pyplot.text(0.2, -0.9, r'$d\\phi_1(x)$')\n",
    "pyplot.text(0.7, 0.8, r'$d\\phi_2(x)$');\n"
   ]
  },
  {
   "cell_type": "markdown",
   "metadata": {},
   "source": [
    "Now, with a defined set of interpolation functions, let´s check the meaning of the other terms of this formulation.\n",
    "\n",
    "The approximation coefficients associated to the considered interpolation functions can be computed evaluating the displacement at both ends:\n",
    "\\begin{equation}\n",
    "u_n(0) = a_1\\underbrace{\\phi_1(0)}_1 +a_2\\underbrace{\\phi_2(0)}_0 = a_1 = \\bar{u}_1\n",
    "\\end{equation}\n",
    "\\begin{equation}\n",
    "u_n(L) = a_1\\underbrace{\\phi_1(L)}_0+a_2\\underbrace{\\phi_2(L)}_1 = a_2 = \\bar{u}_2\n",
    "\\end{equation}\n",
    "Therefore, they correspond to the displacements at the ends of the bar.\n",
    "\n",
    "The approximate normal strain is $\\epsilon_n(x) = u_n'(x)$, that is,\n",
    "\\begin{equation}\n",
    "\\epsilon_n(x) = a_1\\phi_1'(x)+a_2\\phi_2'(x) = [\\begin{array}{cc} \\phi_1'(x) & \\phi_2'(x)]\n",
    "\\end{array} \\left\\{ \\begin{array}{c} a_1 \\\\ a_2 \\end{array} \\right\\} = [B]\\{a\\}\n",
    "\\end{equation}\n",
    "$[B]=\\frac{1}{L}[-1\\;\\; 1]$ is called *strain matrix*.\n",
    "\n",
    "For $EA=\\mathrm{cte}$, the stiffness matrix is given by\n",
    "\\begin{eqnarray*}\n",
    "[K] &=& EA \\left[ \\begin{array}{cc}\n",
    "\\int_0^L \\phi'_1(x)\\phi'_1(x)dx & \\int_0^L \\phi'_1(x)\\phi'_2(x)dx \\\\\n",
    "\\int_0^L \\phi'_1(x)\\phi'_2(x)dx & \\int_0^L \\phi'_2(x)\\phi'_2(x)dx\n",
    "\\end{array} \\right] \\\\\n",
    "&=& \\frac{EA}{L} \\left[ \\begin{array}{rr} 1 & -1 \\\\ -1 & 1 \\end{array} \\right] \\\\\n",
    "&=&{\\int_0^L} [B]^T[D][B]Adx\\;\\;\\;\\;\\;\\;\\;[D]=E\n",
    "\\end{eqnarray*}\n",
    "\n",
    "For a distributed load $q_x(x)=q_0$, the vector of equivalent forces is\n",
    "\\begin{eqnarray*}\n",
    "\\{f\\} &=& \\left\\{ \\begin{array}{c}\n",
    "\\int_0^L q_0\\phi_1(x)dx + P_0\\phi_1(0) + P_L\\phi_1(L)\\\\\n",
    "\\int_0^L q_0\\phi_2(x)dx + P_0\\phi_2(0) + P_L\\phi_2(L)\n",
    "\\end{array} \\right\\} \\\\\n",
    "&=& \\left\\{ \\begin{array}{c}\n",
    "q_0L/2 + P_0\\\\ q_0L/2 + P_L\n",
    "\\end{array} \\right\\} = \\int_0^L q_x(x)[N]^Tdx + \\left\\{ \\begin{array}{c}\n",
    "P_0\\\\ P_L\n",
    "\\end{array} \\right\\}\n",
    "\\end{eqnarray*}\n",
    "\n",
    "Finally, we obtain the system of linear equations\n",
    "\\begin{equation}\n",
    "\\frac{EA}{L} \\left[ \\begin{array}{rr} 1 & -1 \\\\ -1 & 1 \\end{array} \\right]\n",
    "\\left\\{ \\begin{array}{c} \\bar{u}_1 \\\\ \\bar{u}_2 \\end{array} \\right\\} =\n",
    "\\left\\{ \\begin{array}{c}\n",
    "q_oL/2 + P_0\\\\ q_oL/2 + P_L\n",
    "\\end{array} \\right\\}\n",
    "\\end{equation}"
   ]
  },
  {
   "cell_type": "markdown",
   "metadata": {},
   "source": [
    "## Example: Approximate Solution for the Weak Formulation"
   ]
  },
  {
   "cell_type": "markdown",
   "metadata": {},
   "source": [
    "Applying the boundary conditions of the last example to the system of equations above we have\n",
    "\n",
    "\\begin{equation}\n",
    "\\frac{EA}{L} \\left[ \\begin{array}{rr} 1 & -1 \\\\ -1 & 1 \\end{array} \\right]\n",
    "\\left\\{ \\begin{array}{c} 0 \\\\ \\bar{u}_2 \\end{array} \\right\\} =\n",
    "\\left\\{ \\begin{array}{c}\n",
    "q_0L/2 + R\\\\ q_0L/2 + P\n",
    "\\end{array} \\right\\}\n",
    "\\end{equation}\n",
    "where $R$ is the reaction force in the support at $x=0$.\n",
    "\n",
    "Due to the boundary condition at $x=0$, $\\bar{u}_1=0$, the systems of equations reduces to\n",
    "\\begin{equation}\n",
    "\\frac{EA}{L}{\\bar{u}_2} = -q_0L/2 - {R},\\qquad \\frac{EA}{L}{\\bar{u}_2} = q_0L/2 + P\n",
    "\\end{equation}\n",
    "The first equation has two unknowns: $\\bar{u}_2$ and $R$, where $\\bar{u}_2$ is the displacement at $x=L$.\n",
    "\n",
    "Solving the second equation, we have\n",
    "\\begin{equation}\n",
    "\\bar{u}_2 = \\frac{L}{EA}\\left(q_0L/2 + P\\right)\n",
    "\\end{equation}\n",
    "\n",
    "Then we can solve the first equation for $R$:\n",
    "\\begin{equation}\n",
    "R = -(q_0L + P)\n",
    "\\end{equation}\n",
    "\n",
    "The exact solution (from the last example) and the approximate solution (computed here) for this problem are\n",
    "\\begin{equation}\n",
    "u_x(x) = \\frac{1}{EA}\\left(Px+q_0Lx-\\frac{q_0}{2}x^2\\right)\\;\\;\n",
    "\\end{equation}\n",
    "\\begin{equation}\n",
    "u_{2}(x) =\\frac{1}{EA}\\left(Px+\\frac{q_0L}{2}x\\right)\n",
    "\\end{equation}\n",
    "\n",
    "The *absolute error function* is\n",
    "\\begin{equation}\n",
    "e(x)=|u_x(x)-u_{2}(x)| = \\left|\\frac{1}{EA}\\left(\\frac{q_0L}{2}x - \\frac{q_0}{2}x^2\\right)\\right|\n",
    "\\end{equation}\n",
    "\n",
    "The *relative error* is given by\n",
    "\\begin{equation}\n",
    "e_r = \\frac{||e(x)||}{||u_x(x)||} = \\frac{\\sqrt{\\int_0^L e^2(x)dx}}{\\sqrt{\\int_0^L u_x^2(x)dx}}\n",
    "\\end{equation}\n",
    "\n",
    "A comparison of the exact and approximate solutions is given below:"
   ]
  },
  {
   "cell_type": "code",
   "execution_count": 6,
   "metadata": {
    "collapsed": false
   },
   "outputs": [
    {
     "data": {
      "image/png": "[encoded data removed]",
      "text/plain": [
       "<matplotlib.figure.Figure at 0x7877c50>"
      ]
     },
     "metadata": {},
     "output_type": "display_data"
    }
   ],
   "source": [
    "EAu2=(P+q0*L/2)*x\n",
    "err=EAu-EAu2\n",
    "\n",
    "pyplot.figure(figsize=(16,3))\n",
    "\n",
    "pyplot.subplot(121)\n",
    "pyplot.grid(True)\n",
    "pyplot.xlabel(r'$x$', fontsize=18)\n",
    "pyplot.ylabel(r'Axial displacement', fontsize=14)\n",
    "pyplot.tick_params(axis='both', labelsize=12)\n",
    "pyplot.plot(x,EAu, 'r-', lw=2, label='$u_x(x)$')\n",
    "pyplot.plot(x,EAu2, 'b-', lw=2, label='$u_2(x)$')\n",
    "pyplot.legend(bbox_to_anchor=(0.35,1));\n",
    "pyplot.subplot(122)\n",
    "pyplot.grid(True)\n",
    "pyplot.xlabel(r'$x$', fontsize=18)\n",
    "pyplot.ylabel(r'Absolut error', fontsize=14)\n",
    "pyplot.tick_params(axis='both', labelsize=12)\n",
    "pyplot.plot(x,err, 'g-', lw=2, label='$e(x)$')\n",
    "pyplot.legend(bbox_to_anchor=(0.3,1));"
   ]
  },
  {
   "cell_type": "markdown",
   "metadata": {},
   "source": [
    "### Computing the relative error $e_r$:"
   ]
  },
  {
   "cell_type": "code",
   "execution_count": 7,
   "metadata": {
    "collapsed": false
   },
   "outputs": [
    {
     "name": "stdout",
     "output_type": "stream",
     "text": [
      "The relative error of the approximate solution of the weak form is 0.0625.\n"
     ]
    }
   ],
   "source": [
    "from scipy import integrate\n",
    "from math import sqrt\n",
    "mod1=numpy.zeros(nx)\n",
    "mod2=numpy.zeros(nx)\n",
    "for i in range(nx):\n",
    "    mod1[i]=sqrt(err[i]**2)\n",
    "    mod2[i]=sqrt(EAu[i]**2)\n",
    "I1=integrate.simps(mod1,x)\n",
    "I2=integrate.simps(mod2,x)\n",
    "rerr=I1/I2  #relative error\n",
    "print('The relative error of the approximate solution of the weak form is {:.4f}.'.format(rerr))"
   ]
  },
  {
   "cell_type": "markdown",
   "metadata": {},
   "source": [
    "## A Bar Finite Element"
   ]
  },
  {
   "cell_type": "markdown",
   "metadata": {},
   "source": [
    "Let a bar of length $L$ be divided in four segments by the introduction of three internal points as in the figure:"
   ]
  },
  {
   "cell_type": "markdown",
   "metadata": {},
   "source": [
    "![barra_malha_4elems](figs/barra_malha_4elems.png)"
   ]
  },
  {
   "cell_type": "markdown",
   "metadata": {},
   "source": [
    "We can associate each of the following interpolation functions $\\phi_i$ to node $i$:"
   ]
  },
  {
   "cell_type": "markdown",
   "metadata": {},
   "source": [
    "<figure>\n",
    "<img src=\"figs/funcoes_1D_globais.png\" alt=\"Global 1D functions\" width=\"640\" height=\"319\">\n",
    "</figure>"
   ]
  },
  {
   "cell_type": "markdown",
   "metadata": {},
   "source": [
    "The general expression of functions $\\phi_i$ is\n",
    "\n",
    "\\begin{equation}\n",
    "\\phi _{i}(x)=\\left\\{\n",
    "\\begin{array}{rrl}\n",
    "0 &  & x\\notin \\left[ x_{i-1},x_{i+1}\\right]  \\\\\n",
    "\\dfrac{x-x_{i-1}}{x_{i}-x_{i-1}} &  & x\\in \\left[ x_{i-1},x_{i}\\right]  \\\\\n",
    "-\\dfrac{x-x_{i+1}}{x_{i+1}-x_{i}} &  & x\\in \\left[ x_{i},x_{i+1}\\right]\n",
    "\\end{array}\n",
    "\\right.\n",
    "\\end{equation}\n",
    "\n",
    "Note that each of those functions is nonzero on only one segment of the bar. That segment is called the *support* of $\\phi_i$. Those functions are then called *compact support functions*. That very characteristic of compact supportness allows us to define the **concept of finite element**:\n",
    "#### *The Finite Element Method offers a sistematic procedure for building polynomial compact support shape functions.*\n",
    "\n",
    "1. Consider the partitioned bar according to the figure above. Associate to each bar segment $i$, $i=1,\\ldots,4$, the functions $\\phi_{i-1}(x)$ and $\\phi_i(x)$ to define the **finite element**:\n",
    "<table style=\"width:40%; border-style:hidden\">\n",
    "  <tr>\n",
    "    <td style=\"border-style:hidden; text-align:center\">![funcoes_1D_elem_barra](figs/funcoes_1D_elem_barra.png)</td>\t\n",
    "  </tr>\n",
    "</table>\n",
    "\n",
    "2. The interpolation functions can now the written in local terms for each element as\n",
    "\\begin{equation}\n",
    "\\phi _{i-1}^{e}(x)= -\\frac{x-x_i}{h_e} \\qquad\\text{and}\\qquad\n",
    "\\phi _i^{e}(x)= \\frac{x-x_{i-1}}{h_e}\n",
    "\\end{equation}\n",
    "\n",
    "3. The approximations of the axial displacement and strain on the finite element $e$ are\n",
    "\\begin{equation}\n",
    "u_{n}^{e}(x)=a_{i-1}^{e}\\phi _{i-1}^{e}(x)+a_{i}^{e}\\phi _{i}^{e}(x) = [N^e]\\{a^e\\}.\n",
    "\\end{equation}\n",
    "\\begin{eqnarray*}\n",
    "\\frac{du_{n}^{e}(x)}{dx} &=&\n",
    "\\left[ \\begin{array}{cc} \\frac{d\\phi _{i-1}^{e}}{dx} & \\frac{d\\phi _i^{e}}{dx} \\end{array} \\right]\n",
    "\\left\\{ \\begin{array}{c} a_{i-1}^{e} \\\\ a_{i}^{e} \\end{array} \\right\\} \\\\ &=&\n",
    "\\dfrac 1{h_e}\\left[ \\begin{array}{cc} -1 & 1 \\end{array} \\right]\n",
    "\\left\\{ \\begin{array}{c} a_{i-1}^{e} \\\\ a_{i}^{e} \\end{array} \\right\\} = [{B}^{e}]\\{a^{e}\\}\n",
    "\\end{eqnarray*}\n",
    "\n",
    "4. The element stiffness matrix is now given by \n",
    "\\begin{equation}\n",
    "[K^e] = \\int_{x_{i-1}}^{x_i} [B^e]^T[D][B^e]Adx =\n",
    "\\frac{EA}{h_e} \\left[ \\begin{array}{rr} 1 & -1 \\\\ -1 & 1 \\end{array} \\right]\n",
    "\\end{equation}\n",
    "\n",
    "5. **The superposition of local functions generates the global interpolation functions.** That superposition of local functions translate to the assembly of the global linear system of equations."
   ]
  },
  {
   "cell_type": "markdown",
   "metadata": {},
   "source": [
    "## Example: Applying the Finite Element Method to the Axially Loaded Bar"
   ]
  },
  {
   "cell_type": "markdown",
   "metadata": {},
   "source": [
    "![barra_exemplo](figs/barra_exemplo.png)"
   ]
  },
  {
   "cell_type": "markdown",
   "metadata": {},
   "source": [
    "Consider the same bar of the two preceeding examples as shown in the figure. We will apply the procedure described above: the domain $0\\leq x\\leq L$ will be divided in four segments and the steps 1 to 5 will be applied.\n",
    "\n",
    "The next snippets of Python code implement a simple FEM procedure for solving this problem."
   ]
  },
  {
   "cell_type": "code",
   "execution_count": 8,
   "metadata": {
    "collapsed": false
   },
   "outputs": [
    {
     "name": "stdout",
     "output_type": "stream",
     "text": [
      "Displacement solution: [  0.00000000e+00   3.42261905e-06   6.54761905e-06   9.37500000e-06\n",
      "   1.19047619e-05]\n"
     ]
    }
   ],
   "source": [
    "## Physical data\n",
    "Lb=1.0        # bar length\n",
    "E  = 210e9       # Young modulus\n",
    "A  = 1e-4        # cross sectional area\n",
    "EA = E*A \n",
    "p0 = 100         # distributed load\n",
    "Pc = 200         # concentrated load at x = L, b.c. at x = L\n",
    "\n",
    "## FEM setup: all element with the same length\n",
    "Nel   = 4        # number of elements       \n",
    "Nvert = Nel+1    # number of nodes (1-D, linear interpolation)\n",
    "he    = Lb/Nel   # element lenght\n",
    "Ndofs = Nel+1    # number of d.o.f. (1 d.o.f. per node)\n",
    "\n",
    "# Allocation of the stifness matrix\n",
    "Kg = numpy.zeros((Ndofs,Ndofs))\n",
    "\n",
    "# Allocation of the load vector\n",
    "Fg = numpy.zeros(Ndofs)\n",
    "\n",
    "# Allocation of the solution vector\n",
    "ug = numpy.zeros(Ndofs)\n",
    "\n",
    "# Allocation of incidence matrix\n",
    "Incid = numpy.zeros((Nel,2), dtype=numpy.int)\n",
    "\n",
    "# Auxiliary matrix for accessing submatrix (more comments below)\n",
    "TIncid = numpy.zeros((2,1), dtype=numpy.int)\n",
    "\n",
    "# Nodes coordinates\n",
    "X = numpy.linspace(0, Lb, Nvert)\n",
    "\n",
    "# Bar element stiffness matrix\n",
    "Ke = (EA/he)*numpy.array([[1,-1],[-1,1]])\n",
    "\n",
    "# Bar element load vector due to the distributed load p0\n",
    "Fe = (p0*he/2)*numpy.array([1, 1])\n",
    "\n",
    "# Assembly of global matrix and global load vector without b.c.'s\n",
    "for e in range(0,Nel):\n",
    "\tIncid[e,:]=numpy.array([e,e+1])\n",
    "\tFg[Incid[e,:]]=Fg[Incid[e,:]]+Fe \n",
    "\t# numpy requires a column matrix to specify submatrix columns\n",
    "\tTIncid[:,0]=Incid[e,:] \n",
    "\t# The general mechanism to access submatrices in numpy returns the\n",
    "    # transpost of the submatrix. Despite all matrices being symmetric\n",
    "\t# I am transposing Ke to be coherent.\n",
    "\tKg[Incid[e,:], TIncid] = Kg[Incid[e,:], TIncid] + numpy.transpose(Ke);\n",
    "\n",
    "# Application of force b.c. at x = L\n",
    "Fg[-1] = Fg[-1] + Pc\n",
    "\n",
    "# Application of b.c. disp. condition at x = 0 (elimination of the first line\n",
    "# and first column of the global system) and linear system solution for ug\n",
    "ug[1:] = numpy.linalg.solve( Kg[1:,1:],Fg[1:] )\n",
    "\n",
    "print('Displacement solution:',ug)"
   ]
  },
  {
   "cell_type": "code",
   "execution_count": 9,
   "metadata": {
    "collapsed": false
   },
   "outputs": [
    {
     "data": {
      "image/png": "[encoded data removed]",
      "text/plain": [
       "<matplotlib.figure.Figure at 0x7557550>"
      ]
     },
     "metadata": {},
     "output_type": "display_data"
    }
   ],
   "source": [
    "u=(1/EA)*EAu # exact solution of the strong form\n",
    "\n",
    "pyplot.figure(figsize=(8,3))\n",
    "pyplot.grid(True)\n",
    "pyplot.xlabel(r'$x$', fontsize=18)\n",
    "pyplot.ylabel(r'Axial displacement', fontsize=14)\n",
    "pyplot.tick_params(axis='both', labelsize=12)\n",
    "pyplot.title('Exact and FEM solutions for the bar problem', fontsize=18)\n",
    "pyplot.plot(x,u, 'r-', lw=2, label='$u_x(x)$')\n",
    "pyplot.plot(X,ug, 'b--', lw=2, label='$u_5(x)$', marker='o')\n",
    "pyplot.legend(bbox_to_anchor=(0.35,1));"
   ]
  },
  {
   "cell_type": "markdown",
   "metadata": {},
   "source": [
    "## Error Norms"
   ]
  },
  {
   "cell_type": "markdown",
   "metadata": {},
   "source": [
    "### $L_2$ norm of the approximation error "
   ]
  },
  {
   "cell_type": "markdown",
   "metadata": {},
   "source": [
    "\\begin{equation}\n",
    "||e||_{L_2} = \\sqrt{\\int_\\Omega (u-u_n)^2d\\Omega} =\n",
    "\\sqrt{\\sum_{e=1}^{Nel} \\int_{\\Omega_e} (u-u_n)^2d\\Omega_e}\n",
    "\\end{equation}"
   ]
  },
  {
   "cell_type": "markdown",
   "metadata": {},
   "source": [
    "### Energy norm of the approximation $u_n$"
   ]
  },
  {
   "cell_type": "markdown",
   "metadata": {},
   "source": [
    "\\begin{eqnarray*}\n",
    "||u_n||_{A} &=& \\sqrt{\\int_\\Omega EA(u_n')^2 d\\Omega} =\n",
    "\\sqrt{\\sum_{e=1}^{Nel} \\int_{\\Omega_e}EA (u_n')^2 d\\Omega_e} \\\\\n",
    "&=& \\sqrt{\\{a\\}^T[K_g]\\{a\\}} = \\sqrt{\\{a\\}^T\\{f\\}} \\\\\n",
    "&=& \\sqrt{\\sum_{e=1}^{Nel}\\{a_e\\}^T[K_e]\\{a_e\\} }.\n",
    "\\end{eqnarray*}"
   ]
  },
  {
   "cell_type": "code",
   "execution_count": 10,
   "metadata": {
    "collapsed": false
   },
   "outputs": [
    {
     "name": "stdout",
     "output_type": "stream",
     "text": [
      "The energy norm of the FEM solution is 5.4894e-02.\n"
     ]
    }
   ],
   "source": [
    "NormEner_un = sqrt( numpy.dot( numpy.transpose(ug), numpy.dot(Kg, ug) ) )\n",
    "print('The energy norm of the FEM solution is {:.4e}.'.format(NormEner_un))"
   ]
  },
  {
   "cell_type": "markdown",
   "metadata": {},
   "source": [
    "### Energy norm of the exact solution $u$"
   ]
  },
  {
   "cell_type": "markdown",
   "metadata": {},
   "source": [
    "\\begin{equation}\n",
    "||u||_{A} = \\sqrt{\\int_\\Omega EA(u')^2 d\\Omega} =\n",
    "\\sqrt{\\sum_{e=1}^{Nel} \\int_{\\Omega_e} EA(u')^2 d\\Omega_e}\n",
    "\\end{equation}"
   ]
  },
  {
   "cell_type": "code",
   "execution_count": 11,
   "metadata": {
    "collapsed": false
   },
   "outputs": [
    {
     "name": "stdout",
     "output_type": "stream",
     "text": [
      "The energy norm of the exact solution is 5.4917e-02.\n"
     ]
    }
   ],
   "source": [
    "du=N/EA\n",
    "I3=integrate.simps(EA*du**2,x)\n",
    "NormEner_uex = sqrt(I3)\n",
    "print('The energy norm of the exact solution is {:.4e}.'.format(NormEner_uex))"
   ]
  },
  {
   "cell_type": "markdown",
   "metadata": {},
   "source": [
    "### Energy norm of the relative error"
   ]
  },
  {
   "cell_type": "markdown",
   "metadata": {},
   "source": [
    "\\begin{equation}\n",
    "||e_r||_{A} = \\frac{||u||_{A} - ||u_n||_{A}}{||u||_{A}}\n",
    "\\end{equation}"
   ]
  },
  {
   "cell_type": "code",
   "execution_count": 12,
   "metadata": {
    "collapsed": false
   },
   "outputs": [
    {
     "name": "stdout",
     "output_type": "stream",
     "text": [
      "The relative error is e = 4.1127e-04.\n"
     ]
    }
   ],
   "source": [
    "Error = (NormEner_uex - NormEner_un)/NormEner_uex\n",
    "print('The relative error is e = {:.4e}.'.format(Error))"
   ]
  },
  {
   "cell_type": "markdown",
   "metadata": {},
   "source": [
    "## Exercise"
   ]
  },
  {
   "cell_type": "markdown",
   "metadata": {},
   "source": [
    "What is the error behavior with mesh refinement? Try to increase the mesh resolution and check the error behavior. Can you compute the mesh convergence rate?"
   ]
  },
  {
   "cell_type": "markdown",
   "metadata": {},
   "source": [
    "## References"
   ]
  },
  {
   "cell_type": "markdown",
   "metadata": {},
   "source": [
    "- G. E. Karniadakis, S. J. Sherwin. *Spectral/hp Element Methods for CFD*. Oxford University\n",
    "Press, Oxford, 1999.\n",
    "- M.L. Bittencourt. *Fully tensorial nodal and modal shape functions for triangles and tetrahedra*. IJNME, 63(2):1530-1558, 2005.\n",
    "- M.L. Bittencourt, M. G. Vazquez, T. G. Vazquez. *Construction of shape functions for the h- and p- versions of the fem using tensorial product*. IJNME, 71(5):529-563, 2007.\n",
    "- S. Dong, Z. Yosibash. *A parallel spectral element method for dynamic three-dimensional nonlinear\n",
    "elasticity problems*. Computer & Structures, (4):61-85, 2008.\n",
    "- M.L. Bittencourt, T. G. Vazquez. *Tensor-based gauss-jacobi numerical integration for high-order\n",
    "mass and stiffness matrices.* IJNME, 79(5):599-638,2009.\n",
    "- M.L. Bittencourt, *Análise computacional de estruturas*, Editora da UNICAMP, 2010."
   ]
  },
  {
   "cell_type": "code",
   "execution_count": null,
   "metadata": {
    "collapsed": false
   },
   "outputs": [],
   "source": []
  }
 ],
 "metadata": {
  "kernelspec": {
   "display_name": "Python 3",
   "language": "python",
   "name": "python3"
  },
  "language_info": {
   "codemirror_mode": {
    "name": "ipython",
    "version": 3
   },
   "file_extension": ".py",
   "mimetype": "text/x-python",
   "name": "python",
   "nbconvert_exporter": "python",
   "pygments_lexer": "ipython3",
   "version": "3.4.3"
  }
 },
 "nbformat": 4,
 "nbformat_minor": 0
}
